{
 "nbformat": 4,
 "nbformat_minor": 2,
 "metadata": {
  "language_info": {
   "name": "python",
   "codemirror_mode": {
    "name": "ipython",
    "version": 3
   },
   "version": "3.7.4-final"
  },
  "orig_nbformat": 2,
  "file_extension": ".py",
  "mimetype": "text/x-python",
  "name": "python",
  "npconvert_exporter": "python",
  "pygments_lexer": "ipython3",
  "version": 3,
  "kernelspec": {
   "name": "python37464bitbd28dba388f24ab5b98956ad02abee7e",
   "display_name": "Python 3.7.4 64-bit"
  }
 },
 "cells": [
  {
   "cell_type": "code",
   "execution_count": 28,
   "metadata": {},
   "outputs": [],
   "source": [
    "import pandas as pd\n",
    "import numpy as np\n",
    "import matplotlib.pyplot as plot\n",
    "import scipy.spatial as sp\n",
    "import unicodedata\n",
    "import MeCab\n",
    "from sklearn.feature_extraction.text import TfidfVectorizer\n",
    "from gensim.models import word2vec\n",
    "import pprint\n",
    "import numpy as np\n",
    "from scipy import spatial\n",
    "\n",
    "mecab = MeCab.Tagger ('-d /usr/local/lib/mecab/dic/mecab-ipadic-neologd')\n",
    "\n",
    "vector_size=250"
   ]
  },
  {
   "cell_type": "code",
   "execution_count": 3,
   "metadata": {},
   "outputs": [
    {
     "data": {
      "text/plain": "'\\ncsvの読み込み\\n電波途切れた関係で100店舗のもの（../csv/review_100.csv）とそれ以外の全てのデータ(../csv/review.csv)が存在する\\nこれをあとでマージ\\n'"
     },
     "execution_count": 3,
     "metadata": {},
     "output_type": "execute_result"
    }
   ],
   "source": [
    "'''\n",
    "csvの読み込み\n",
    "電波途切れた関係で100店舗のもの（../csv/review_100.csv）とそれ以外の全てのデータ(../csv/review.csv)が存在する\n",
    "これをあとでマージ\n",
    "'''\n",
    "\n",
    "# review_100 = pd.read_csv('../csv/review_100.csv') # shape(99,8)\n",
    "# review_other = pd.read_csv('../csv/review.csv') # shape(1000,8)"
   ]
  },
  {
   "cell_type": "code",
   "execution_count": 4,
   "metadata": {},
   "outputs": [],
   "source": [
    "# review_df = pd.concat([review_100, review_other]) # shape(1099, 8)\n",
    "# review_df"
   ]
  },
  {
   "cell_type": "code",
   "execution_count": 5,
   "metadata": {},
   "outputs": [],
   "source": [
    "# review_df = review_df.drop(['Unnamed: 0', 'pref', 'review_cnt'], axis=1)  "
   ]
  },
  {
   "cell_type": "code",
   "execution_count": 6,
   "metadata": {},
   "outputs": [],
   "source": [
    "# review_df = review_df.set_index('store_id')"
   ]
  },
  {
   "cell_type": "code",
   "execution_count": 7,
   "metadata": {},
   "outputs": [],
   "source": [
    "# review_df.to_csv('../csv/review_new.csv')"
   ]
  },
  {
   "cell_type": "code",
   "execution_count": 8,
   "metadata": {},
   "outputs": [],
   "source": [
    "review_df = pd.read_csv('/Users/kazuki_takahashi/Desktop/python_study/datamix_ramen/csv/review.csv')"
   ]
  },
  {
   "cell_type": "code",
   "execution_count": 9,
   "metadata": {},
   "outputs": [],
   "source": [
    "# review_df.score.value_counts().sort_index().plot(kind='bar')"
   ]
  },
  {
   "cell_type": "code",
   "execution_count": 31,
   "metadata": {},
   "outputs": [
    {
     "data": {
      "text/html": "<div>\n<style scoped>\n    .dataframe tbody tr th:only-of-type {\n        vertical-align: middle;\n    }\n\n    .dataframe tbody tr th {\n        vertical-align: top;\n    }\n\n    .dataframe thead th {\n        text-align: right;\n    }\n</style>\n<table border=\"1\" class=\"dataframe\">\n  <thead>\n    <tr style=\"text-align: right;\">\n      <th></th>\n      <th>store_id</th>\n      <th>store_name</th>\n      <th>score</th>\n      <th>station</th>\n      <th>review</th>\n      <th>wakati_review</th>\n    </tr>\n  </thead>\n  <tbody>\n    <tr>\n      <th>0</th>\n      <td>1</td>\n      <td>中華そば しば田</td>\n      <td>4.06</td>\n      <td>仙川</td>\n      <td>開店前から長蛇の列(  ロ)゚ ゚開店前10前に到着しましたが、ありつけるまで、1間半を要し...</td>\n      <td>開店 前 長蛇 列 ロ ゚ ゚ 開店 前 前 到着 間 半 そこ 東京 規模 の 夜 煮干し...</td>\n    </tr>\n    <tr>\n      <th>1</th>\n      <td>2</td>\n      <td>Homemade Ramen 麦苗</td>\n      <td>4.02</td>\n      <td>大森海岸</td>\n      <td>わがままボディーの後輩との東京遠征2目の昼。実に4ぶりとなるこちらへ。当から行列のできるラー...</td>\n      <td>わがまま ボディー 後輩 東京 遠征 目 昼 ぶり こちら 当 行列 ラーメン屋 食べログ ...</td>\n    </tr>\n    <tr>\n      <th>2</th>\n      <td>3</td>\n      <td>手打式超多加水麺 ののくら</td>\n      <td>3.98</td>\n      <td>亀有</td>\n      <td>2020128 初訪TRY本で新人賞を獲った頃から行きたかった「ののくら」。今の午前中の打ち...</td>\n      <td>訪 TRY 本 新人賞 頃 のの くら 今 午前中 打ち合わせ 新小岩 午後 予定 く間 余...</td>\n    </tr>\n    <tr>\n      <th>3</th>\n      <td>4</td>\n      <td>中華そば 多賀野</td>\n      <td>3.97</td>\n      <td>荏原中延</td>\n      <td>中華そば750、大盛120動物系乾物系背脂醤油スープ中細ストレート麺ちょいカタメ豚バラチャー...</td>\n      <td>中華そば 大盛 動物 系 乾物 系 背脂 醤油 スープ 中 ストレート麺 カタメ 豚バラ チ...</td>\n    </tr>\n    <tr>\n      <th>4</th>\n      <td>5</td>\n      <td>麺庵ちとせ</td>\n      <td>3.97</td>\n      <td>若松河田</td>\n      <td>百名店ラーメンTOKYO2019の51店目は曙橋の『麺庵ちとせ』さんへ地下鉄の駅からお店へと...</td>\n      <td>百名 店 ラーメン TOKYO 店 目 曙 橋 麺 庵 ちとせ さん 地下鉄 駅 店 坂道 ...</td>\n    </tr>\n    <tr>\n      <th>...</th>\n      <td>...</td>\n      <td>...</td>\n      <td>...</td>\n      <td>...</td>\n      <td>...</td>\n      <td>...</td>\n    </tr>\n    <tr>\n      <th>1094</th>\n      <td>1096</td>\n      <td>旨辛ラーメン 表裏</td>\n      <td>3.50</td>\n      <td>市ケ谷</td>\n      <td>市ヶ谷ランチシリーズ(笑)まぁいつも通りと言うか麺屋さんから攻めていくわけですね〜こちらのお...</td>\n      <td>市ヶ谷 ランチ シリーズ 笑 通り 麺 屋 さん わけ こちら 店 ん カップラーメン 結構...</td>\n    </tr>\n    <tr>\n      <th>1095</th>\n      <td>1097</td>\n      <td>麺屋 ほたる</td>\n      <td>3.50</td>\n      <td>板橋</td>\n      <td>板橋駅の近くにお店があります。このは昼に煮干しラーメンを食べたので繋げて魚介系のつけ麺を食べ...</td>\n      <td>板橋駅 近く 店 このは 昼 ラーメン 魚介 系 つけ麺 こと 板橋駅 徒歩 到着 裏通り ...</td>\n    </tr>\n    <tr>\n      <th>1096</th>\n      <td>1098</td>\n      <td>中華そば ばんや</td>\n      <td>3.50</td>\n      <td>下高井戸</td>\n      <td>東京都世田谷区松原。無化調、麺スープチャーシュー水等全てを厳選、こだわり抜いた中華そば店です...</td>\n      <td>東京都世田谷区松原 無化調 麺 スープ チャーシュー 水 等 全て 厳選 中華そば 店 最寄...</td>\n    </tr>\n    <tr>\n      <th>1097</th>\n      <td>1099</td>\n      <td>こうや麺房</td>\n      <td>3.50</td>\n      <td>本郷三丁目</td>\n      <td>クライアントの方から少し早めのランチの誘い狙いは前回訪問で好評だった江戸富士お店に向うと12...</td>\n      <td>クライアント 方 早め ランチ 誘い 狙い 前回 訪問 好評 江戸 富士 店 前 以上 並び...</td>\n    </tr>\n    <tr>\n      <th>1098</th>\n      <td>1100</td>\n      <td>支那そば やまいち</td>\n      <td>3.50</td>\n      <td>町田</td>\n      <td>こんにちは 卓球少女です町田のラーメンと言えば、有名なお店がたくさんあるのだけど、実は隠れた...</td>\n      <td>卓球 少女 町田 ラーメン 有名 店 たくさん の 実力派 ラーメン 存在 なか 醤油ラーメ...</td>\n    </tr>\n  </tbody>\n</table>\n<p>1099 rows × 6 columns</p>\n</div>",
      "text/plain": "      store_id         store_name  score station  \\\n0            1           中華そば しば田   4.06      仙川   \n1            2  Homemade Ramen 麦苗   4.02    大森海岸   \n2            3      手打式超多加水麺 ののくら   3.98      亀有   \n3            4           中華そば 多賀野   3.97    荏原中延   \n4            5              麺庵ちとせ   3.97    若松河田   \n...        ...                ...    ...     ...   \n1094      1096          旨辛ラーメン 表裏   3.50     市ケ谷   \n1095      1097             麺屋 ほたる   3.50      板橋   \n1096      1098           中華そば ばんや   3.50    下高井戸   \n1097      1099              こうや麺房   3.50   本郷三丁目   \n1098      1100          支那そば やまいち   3.50      町田   \n\n                                                 review  \\\n0     開店前から長蛇の列(  ロ)゚ ゚開店前10前に到着しましたが、ありつけるまで、1間半を要し...   \n1     わがままボディーの後輩との東京遠征2目の昼。実に4ぶりとなるこちらへ。当から行列のできるラー...   \n2     2020128 初訪TRY本で新人賞を獲った頃から行きたかった「ののくら」。今の午前中の打ち...   \n3     中華そば750、大盛120動物系乾物系背脂醤油スープ中細ストレート麺ちょいカタメ豚バラチャー...   \n4     百名店ラーメンTOKYO2019の51店目は曙橋の『麺庵ちとせ』さんへ地下鉄の駅からお店へと...   \n...                                                 ...   \n1094  市ヶ谷ランチシリーズ(笑)まぁいつも通りと言うか麺屋さんから攻めていくわけですね〜こちらのお...   \n1095  板橋駅の近くにお店があります。このは昼に煮干しラーメンを食べたので繋げて魚介系のつけ麺を食べ...   \n1096  東京都世田谷区松原。無化調、麺スープチャーシュー水等全てを厳選、こだわり抜いた中華そば店です...   \n1097  クライアントの方から少し早めのランチの誘い狙いは前回訪問で好評だった江戸富士お店に向うと12...   \n1098  こんにちは 卓球少女です町田のラーメンと言えば、有名なお店がたくさんあるのだけど、実は隠れた...   \n\n                                          wakati_review  \n0     開店 前 長蛇 列 ロ ゚ ゚ 開店 前 前 到着 間 半 そこ 東京 規模 の 夜 煮干し...  \n1     わがまま ボディー 後輩 東京 遠征 目 昼 ぶり こちら 当 行列 ラーメン屋 食べログ ...  \n2     訪 TRY 本 新人賞 頃 のの くら 今 午前中 打ち合わせ 新小岩 午後 予定 く間 余...  \n3     中華そば 大盛 動物 系 乾物 系 背脂 醤油 スープ 中 ストレート麺 カタメ 豚バラ チ...  \n4     百名 店 ラーメン TOKYO 店 目 曙 橋 麺 庵 ちとせ さん 地下鉄 駅 店 坂道 ...  \n...                                                 ...  \n1094  市ヶ谷 ランチ シリーズ 笑 通り 麺 屋 さん わけ こちら 店 ん カップラーメン 結構...  \n1095  板橋駅 近く 店 このは 昼 ラーメン 魚介 系 つけ麺 こと 板橋駅 徒歩 到着 裏通り ...  \n1096  東京都世田谷区松原 無化調 麺 スープ チャーシュー 水 等 全て 厳選 中華そば 店 最寄...  \n1097  クライアント 方 早め ランチ 誘い 狙い 前回 訪問 好評 江戸 富士 店 前 以上 並び...  \n1098  卓球 少女 町田 ラーメン 有名 店 たくさん の 実力派 ラーメン 存在 なか 醤油ラーメ...  \n\n[1099 rows x 6 columns]"
     },
     "execution_count": 31,
     "metadata": {},
     "output_type": "execute_result"
    }
   ],
   "source": [
    "review_df['station'] = review_df['station'].str.rstrip('駅') # 駅という文字列を削除して格納し直す\n",
    "review_df['review'] = review_df['review'].str.replace('円','') # 円という文字列を削除して格納し直す\n",
    "review_df['review'] = review_df['review'].str.replace('点','') # 点という文字列を削除して格納し直す\n",
    "review_df['review'] = review_df['review'].str.replace('時','') # 時という文字列を削除して格納し直す\n",
    "review_df['review'] = review_df['review'].str.replace('分','') # 分という文字列を削除して格納し直す\n",
    "review_df['review'] = review_df['review'].str.replace('!','') # 分という文字列を削除して格納し直す\n",
    "review_df['review'] = review_df['review'].str.replace('・','') # 分という文字列を削除して格納し直す\n",
    "review_df['review'] = review_df['review'].str.replace(';','') # 分という文字列を削除して格納し直す\n",
    "review_df['review'] = review_df['review'].str.replace('?','') # 分という文字列を削除して格納し直す\n",
    "review_df['review'] = review_df['review'].str.replace('年','') # 分という文字列を削除して格納し直す\n",
    "review_df['review'] = review_df['review'].str.replace('月','') # 分という文字列を削除して格納し直す\n",
    "review_df['review'] = review_df['review'].str.replace('日','') # 分という文字列を削除して格納し直す\n",
    "review_df['review'] = review_df['review'].str.replace('゚ Д ゚','') # 分という文字列を削除して格納し直す\n",
    "review_df"
   ]
  },
  {
   "cell_type": "code",
   "execution_count": 11,
   "metadata": {},
   "outputs": [],
   "source": [
    "review_df['review'] = review_df['review'].str.normalize('NFKC')"
   ]
  },
  {
   "cell_type": "code",
   "execution_count": 12,
   "metadata": {},
   "outputs": [],
   "source": [
    "def get_noun(text):\n",
    "    mecab.parse('')\n",
    "    node = mecab.parseToNode(text)\n",
    "    result = []\n",
    "\n",
    "    while node:\n",
    "        word = node.surface\n",
    "        pos,pos2 = node.feature.split(\",\")[0],node.feature.split(\",\")[1]\n",
    "        if '0' in word or '1' in word or '2' in word or '3' in word or '4' in word or '5' in word or '6' in word or '7' in word or '8' in word or '9' in word:\n",
    "            node = node.next\n",
    "            continue\n",
    "\n",
    "        if pos2 == '数':\n",
    "            node = node.next\n",
    "            continue\n",
    "            \n",
    "        if pos == '名詞' and pos2 != '数':\n",
    "            result.append(word)\n",
    "\n",
    "        node = node.next\n",
    "\n",
    "    return ' '.join(result)"
   ]
  },
  {
   "cell_type": "code",
   "execution_count": 13,
   "metadata": {},
   "outputs": [],
   "source": [
    "review_df['wakati_review'] = review_df['review'].apply(get_noun)"
   ]
  },
  {
   "cell_type": "code",
   "execution_count": 14,
   "metadata": {},
   "outputs": [],
   "source": [
    "# review_df['wakati_review'][:10]"
   ]
  },
  {
   "cell_type": "code",
   "execution_count": 15,
   "metadata": {},
   "outputs": [],
   "source": [
    "vectrizer = TfidfVectorizer(token_pattern=r\"(?u)\\b\\w+\\b\")"
   ]
  },
  {
   "cell_type": "code",
   "execution_count": 16,
   "metadata": {},
   "outputs": [],
   "source": [
    "X = vectrizer.fit_transform(review_df['wakati_review'])"
   ]
  },
  {
   "cell_type": "code",
   "execution_count": 17,
   "metadata": {},
   "outputs": [
    {
     "data": {
      "text/plain": "array([[0., 0., 0., ..., 0., 0., 0.]])"
     },
     "execution_count": 17,
     "metadata": {},
     "output_type": "execute_result"
    }
   ],
   "source": [
    "X[0].toarray()"
   ]
  },
  {
   "cell_type": "code",
   "execution_count": 18,
   "metadata": {},
   "outputs": [],
   "source": [
    "# review_df.head()"
   ]
  },
  {
   "cell_type": "code",
   "execution_count": 19,
   "metadata": {},
   "outputs": [],
   "source": [
    "sentences = [token.split() for token in review_df.wakati_review]"
   ]
  },
  {
   "cell_type": "code",
   "execution_count": 20,
   "metadata": {},
   "outputs": [],
   "source": [
    "cbow_model = word2vec.Word2Vec(\n",
    "    sentences,\n",
    "    sg=0,\n",
    "    size=250,\n",
    "    min_count=10,\n",
    "    window=15,\n",
    "    seed=1234\n",
    ")"
   ]
  },
  {
   "cell_type": "code",
   "execution_count": 21,
   "metadata": {},
   "outputs": [],
   "source": [
    "cbow_model.save('/Users/kazuki_takahashi/Desktop/python_study/datamix_ramen/models/v2_cbow_w2v.model')"
   ]
  },
  {
   "cell_type": "code",
   "execution_count": 22,
   "metadata": {},
   "outputs": [
    {
     "data": {
      "text/plain": "['a',\n 'aa',\n 'aazokk',\n 'ab',\n 'aba',\n 'abc',\n 'abe',\n 'abelog',\n 'abematv',\n 'about',\n 'aburasso',\n 'aburraso',\n 'ac',\n 'academicseriesnewasia',\n 'acc',\n 'accept',\n 'ace',\n 'acm',\n 'aco',\n 'acuo',\n 'ad',\n 'adap',\n 'additional',\n 'adores',\n 'adp',\n 'adsbygoogle',\n 'ae',\n 'aepvkae',\n 'af',\n 'afk',\n 'afn',\n 'afri',\n 'after',\n 'afu',\n 'afuri',\n 'again',\n 'against',\n 'ah',\n 'ahead',\n 'ahref',\n 'aid',\n 'aiming',\n 'aji',\n 'ajibana',\n 'ajito',\n 'ajitoism',\n 'ajzvnpcx',\n 'ak',\n 'aka',\n 'akane',\n 'akanoren',\n 'akasak',\n 'akasaka',\n 'akasakashare',\n 'akb',\n 'akind',\n 'akira',\n 'aky',\n 'alacarte',\n 'alc',\n 'ale',\n 'alexa',\n 'algy',\n 'alice',\n 'all',\n 'allstar',\n 'aloha',\n 'alps',\n 'alqod',\n 'also',\n 'alwaysudon',\n 'am',\n 'amazing',\n 'amazon',\n 'amazonプライム',\n 'ameba',\n 'ameblo',\n 'amemberentry',\n 'amemiya',\n 'american',\n 'amp',\n 'ampampampampampampquot',\n 'ampampampquot',\n 'an',\n 'ana',\n 'and',\n 'angel',\n 'ani',\n 'anniversary',\n 'answer',\n 'anyway',\n 'anzc',\n 'aoixcqdgpu',\n 'aoki',\n 'aor',\n 'aoyan',\n 'apaopen',\n 'aphasia',\n 'apoa',\n 'apostsharedby',\n 'app',\n 'appendchild',\n 'apple',\n 'april',\n 'aprspyexvc',\n 'aqwgj',\n 'aqwpajspyzo',\n 'arata',\n 'arc',\n 'arcada',\n 'arch',\n 'archives',\n 'arcnet',\n 'are',\n 'arearea',\n 'arguments',\n 'ark',\n 'arnolds',\n 'around',\n 'art',\n 'article',\n 'as',\n 'asahi',\n 'asakusa',\n 'asap',\n 'asazukahttps',\n 'ash',\n 'asia',\n 'aside',\n 'ask',\n 'asp',\n 'asrlkzm',\n 'assari',\n 'assistant',\n 'at',\n 'atago',\n 'atlanta',\n 'audio',\n 'aug',\n 'auth',\n 'autosleep',\n 'av',\n 'avenue',\n 'avr',\n 'avril',\n 'award',\n 'away',\n 'awc',\n 'awomf',\n 'axis',\n 'ayukilunch',\n 'ayumi',\n 'az',\n 'azrael',\n 'azs',\n 'aカップ',\n 'aクラス',\n 'aタイプ',\n 'a型',\n 'a子',\n 'b',\n 'ba',\n 'bababarichan',\n 'back',\n 'backnumber',\n 'bad',\n 'badge',\n 'badgeescape',\n 'baja',\n 'baku',\n 'balance',\n 'balingen',\n 'bamboo',\n 'banette',\n 'bang',\n 'bangles',\n 'bangofan',\n 'banya',\n 'bar',\n 'barbecued',\n 'barger',\n 'bario',\n 'barstyle',\n 'barut',\n 'base',\n 'basefood',\n 'basepasta',\n 'baseramen',\n 'basic',\n 'bassanoba',\n 'bassanova',\n 'basso',\n 'bassy',\n 'battery',\n 'bau',\n 'bay',\n 'bb',\n 'bba',\n 'bbq',\n 'bbw',\n 'bc',\n 'bck',\n 'bcux',\n 'bd',\n 'bdvmgofnjpc',\n 'be',\n 'beach',\n 'beans',\n 'beauty',\n 'beaver',\n 'beck',\n 'bed',\n 'bee',\n 'beef',\n 'beei',\n 'been',\n 'beer',\n 'before',\n 'begin',\n 'believe',\n 'belt',\n 'benten',\n 'berry',\n 'best',\n 'bet',\n 'between',\n 'beyond',\n 'bf',\n 'bftovft',\n 'bfwv',\n 'bg',\n 'bgm',\n 'bgood',\n 'bgy',\n 'bh',\n 'bhind',\n 'bibiri',\n 'bic',\n 'big',\n 'bigkatsu',\n 'billboard',\n 'billiken',\n 'bin',\n 'bird',\n 'bistro',\n 'bistrotriostrios',\n 'bit',\n 'bitter',\n 'biz',\n 'bjp',\n 'bjr',\n 'bk',\n 'bkbf',\n 'bkppnwy',\n 'bkyu',\n 'black',\n 'blackhttps',\n 'blank',\n 'blau',\n 'bldg',\n 'blend',\n 'blendy',\n 'blind',\n 'blog',\n 'blogmura',\n 'blogs',\n 'blogspot',\n 'bltサンド',\n 'blu',\n 'blue',\n 'blues',\n 'blvnoao',\n 'blx',\n 'bm',\n 'bmi',\n 'bmmacw',\n 'bn',\n 'bnod',\n 'bo',\n 'bob',\n 'body',\n 'bond',\n 'bondy',\n 'bonito',\n 'bonitobonito',\n 'bonitosoupnoodleraik',\n 'bookmark',\n 'bored',\n 'boredhttps',\n 'boss',\n 'boston',\n 'bot',\n 'bottan',\n 'bowie',\n 'box',\n 'boy',\n 'boys',\n 'bp',\n 'bpc',\n 'bqmca',\n 'br',\n 'branching',\n 'branchung',\n 'brand',\n 'brewing',\n 'brfjddtgaxz',\n 'bring',\n 'brix',\n 'brnfqpkfhny',\n 'bronze',\n 'brothers',\n 'brtmkvsgmig',\n 'brwyvl',\n 'bryanadams',\n 'bs',\n 'bse',\n 'bsevz',\n 'bsn',\n 'bt',\n 'btifqaya',\n 'btkq',\n 'btn',\n 'btrtyxggni',\n 'btzf',\n 'budoukawaseda',\n 'bukkake',\n 'bum',\n 'bun',\n 'bundle',\n 'bungeejunk',\n 'bunkyouku',\n 'burger',\n 'bus',\n 'busy',\n 'but',\n 'butakoma',\n 'butayarou',\n 'buto',\n 'butter',\n 'buunoramentabi',\n 'bvgfol',\n 'bvlgari',\n 'bvmzvhdaznx',\n 'bvpcergggag',\n 'bvpjx',\n 'bvsvzxultbl',\n 'bx',\n 'by',\n 'byb',\n 'bye',\n 'byl',\n 'bytakalogbook',\n 'bタイプ',\n 'bダッシュ',\n 'b型',\n 'b玉',\n 'b系',\n 'b級',\n 'b級グルメ',\n 'c',\n 'ca',\n 'cabin',\n 'cafe',\n 'café',\n 'cal',\n 'calif',\n 'call',\n 'calm',\n 'calory',\n 'camera',\n 'camino',\n 'camp',\n 'can',\n 'cap',\n 'capellini',\n 'captain',\n 'captainsolo',\n 'car',\n 'card',\n 'cardlink',\n 'carna',\n 'carp',\n 'carte',\n 'case',\n 'cases',\n 'cash',\n 'cat',\n 'category',\n 'catherine',\n 'cb',\n 'cbgb',\n 'cbk',\n 'cbsソニー',\n 'cc',\n 'ccc',\n 'ccccccccccccccckkkkkkkk',\n 'cd',\n 'cdorhx',\n 'cdショップ',\n 'ce',\n 'cedqnk',\n 'ceh',\n 'center',\n 'centro',\n 'ceo',\n 'cesckk',\n 'cezx',\n 'chain',\n 'chains',\n 'chameleon',\n 'chan',\n 'chance',\n 'chanel',\n 'change',\n 'changehttps',\n 'channel',\n 'chappytsum',\n 'charge',\n 'charisma',\n 'charlemagne',\n 'charles',\n 'charset',\n 'chd',\n 'checked',\n 'chee',\n 'cheese',\n 'cheeze',\n 'chevrot',\n 'chi',\n 'chiharu',\n 'children',\n 'chin',\n 'chines',\n 'chinese',\n 'chnd',\n 'choo',\n 'christmas',\n 'chu',\n 'chukasoba',\n 'chuo',\n 'chuosen',\n 'chururi',\n 'chuukasobahibiki',\n 'cicm',\n 'ciel',\n 'cielo',\n 'cim',\n 'cinema',\n 'cique',\n 'circle',\n 'city',\n 'ck',\n 'ckb',\n 'ckcps',\n 'ckhtgpx',\n 'ckmcvg',\n 'clab',\n 'clam',\n 'clark',\n 'classical',\n 'clean',\n 'clic',\n 'clock',\n 'close',\n 'closed',\n 'club',\n 'cm',\n 'cmソング',\n 'cn',\n 'co',\n 'coco',\n 'coconut',\n 'coco壱',\n 'coco壱番屋',\n 'coedo',\n 'coffee',\n 'col',\n 'cold',\n 'color',\n 'colorful',\n 'colour',\n 'com',\n 'come',\n 'coming',\n 'comment',\n 'complicated',\n 'cona',\n 'concierge',\n 'congratulation',\n 'consumption',\n 'contact',\n 'contemporary',\n 'contents',\n 'continue',\n 'continued',\n 'cool',\n 'coolcrewpar',\n 'coop',\n 'copyright',\n 'core',\n 'coredo室町',\n 'costco',\n 'could',\n 'cp',\n 'cps',\n 'cpu',\n 'crab',\n 'crazy',\n 'crazycrab',\n 'creamy',\n 'createelement',\n 'crema',\n 'crew',\n 'cri',\n 'crimson',\n 'cripts',\n 'cross',\n 'crow',\n 'crue',\n 'cruel',\n 'crystal',\n 'crüe',\n 'cs',\n 'cspdp',\n 'cube',\n 'cuby',\n 'cuit',\n 'cum',\n 'curator',\n 'current',\n 'curry',\n 'currycell',\n 'curryfes',\n 'customize',\n 'customizebp',\n 'cvlutyrjawy',\n 'cwyo',\n 'cyq',\n 'cタイプ',\n 'd',\n 'da',\n 'daibar',\n 'daigo',\n 'daishi',\n 'daisuki',\n 'daiwa',\n 'daizu',\n 'dalmatto',\n 'dan',\n 'dancyu',\n 'dapper',\n 'dapump',\n 'dargli',\n 'dark',\n 'darkhttps',\n 'dash',\n 'data',\n 'day',\n 'db',\n 'dbc',\n 'dbzwnzhma',\n 'dc',\n 'de',\n 'death',\n 'debu',\n 'december',\n 'deen',\n 'deepfried',\n 'definition',\n 'deiwfrwd',\n 'deka',\n 'dekachiri',\n 'dekamori',\n 'deli',\n 'delicious',\n 'den',\n 'dena',\n 'deno',\n 'desire',\n 'desktop',\n 'destiny',\n 'destruction',\n 'detail',\n 'devuet',\n 'dewar',\n 'dfreqghz',\n 'dg',\n 'dha',\n 'dhpo',\n 'diary',\n 'diarydtl',\n 'die',\n 'different',\n 'dig',\n 'dining',\n 'diningbar',\n 'dininng',\n 'dinner',\n 'dio',\n 'dion',\n 'directional',\n 'dish',\n 'disk',\n 'div',\n 'dive',\n 'diver',\n 'divine',\n 'diy',\n 'dj',\n 'djc',\n 'dk',\n 'dl',\n 'dlc',\n 'dlrq',\n 'dlzyaa',\n 'dm',\n 'dmt',\n 'dn',\n 'dna',\n 'dnvarvv',\n 'do',\n 'document',\n 'doe',\n 'domi',\n 'don',\n 'dope',\n 'doredo',\n 'double',\n 'down',\n 'dp',\n 'dr',\n 'dracö',\n 'dragon',\n 'dragonash',\n 'drc',\n 'dream',\n 'dreams',\n 'dressing',\n 'driedwell',\n 'drillman',\n 'drm',\n 'dry',\n 'ds',\n 'dthatyuyhf',\n 'dtlrvwlst',\n 'dtrye',\n 'du',\n 'duca',\n 'due',\n 'dump',\n 'dungeon',\n 'dunk',\n 'dusk',\n 'dvd',\n 'dvdbox',\n 'dwnk',\n 'dx',\n 'dxyx',\n 'd払い',\n 'e',\n 'ea',\n 'eaonq',\n 'earth',\n 'earthshaker',\n 'east',\n 'easy',\n 'easynormalhardhard',\n 'eat',\n 'ebisu',\n 'ebssnz',\n 'eccentric',\n 'ecd',\n 'ecdf',\n 'echika',\n 'echika池袋',\n 'ecute',\n 'ecute上野',\n 'ecute品川サウス',\n 'ecサイト',\n 'edit',\n 'edm',\n 'edo',\n 'eechika',\n 'eeeeeats',\n 'eehive',\n 'efd',\n 'efhtqgwfjcu',\n 'eg',\n 'egevwhvt',\n 'ego',\n 'egt',\n 'egv',\n 'egy',\n 'egzone',\n 'ehive',\n 'ehwkqpx',\n 'eid',\n 'eifuku',\n 'eihoka',\n 'eiji',\n 'ek',\n 'eldorado',\n 'eleven',\n 'elldpa',\n 'em',\n 'emio',\n 'emiphs',\n 'emon',\n 'en',\n 'end',\n 'endprime',\n 'english',\n 'ength',\n 'enjoo',\n 'enjoy',\n 'enooken',\n 'ensp',\n 'ent',\n 'entrance',\n 'entry',\n 'entrylist',\n 'entryrcd',\n 'enya',\n 'ep',\n 'epa',\n 'epark',\n 'episode',\n 'epytnys',\n 'eq',\n 'eric',\n 'ery',\n 'espuma',\n 'estnation',\n 'etc',\n 'etcカード',\n 'eteks',\n 'eternal',\n 'ethical',\n 'eurobounds',\n 'eve',\n 'every',\n 'evil',\n 'evu',\n 'ewglx',\n 'ex',\n 'exam',\n 'exblog',\n 'excellent',\n 'excuse',\n 'exile',\n 'expected',\n 'expectedbut',\n 'explore',\n 'expo',\n 'extra',\n 'eye',\n 'ez',\n 'eテレ',\n 'f',\n 'facebook',\n 'faces',\n 'factory',\n 'fakz',\n 'fallindebu',\n 'false',\n 'familymart',\n 'farmer',\n 'fawdm',\n 'fb',\n 'fbf',\n 'fbynaavyq',\n 'fc',\n 'fc店',\n 'fc東京',\n 'fd',\n 'fdd',\n 'fddl',\n 'fde',\n 'fdq',\n 'fe',\n 'feat',\n 'feb',\n 'february',\n 'fedelini',\n 'feel',\n 'feeling',\n 'fen',\n 'festival',\n 'feujcsvibto',\n 'ff',\n 'fh',\n 'fhrjthgo',\n 'fhsfg',\n 'fhttps',\n 'fhugm',\n 'fi',\n 'ficklelightning',\n 'fight',\n 'file',\n 'films',\n 'fingers',\n 'finish',\n 'firepower',\n 'first',\n 'fish',\n 'fist',\n 'fit',\n 'five',\n 'fiveroyales',\n 'flavor',\n 'floating',\n 'floorguide',\n 'flower',\n 'fm',\n 'fmb',\n 'fmixjkfklc',\n 'fmjcgbviifg',\n 'fmkqzeh',\n 'fmy',\n 'fm東京',\n 'fm横浜',\n 'fnv',\n 'fnw',\n 'fo',\n 'fob',\n 'fog',\n 'follow',\n 'followme',\n 'food',\n 'foodgram',\n 'foodhall',\n 'foodie',\n 'foodporn',\n 'foodrepotv',\n 'foods',\n 'foodsocial',\n 'foodstagram',\n 'for',\n 'force',\n 'foreigner',\n 'forestspringwater',\n 'forever',\n 'forfreeworld',\n 'fortune',\n 'four',\n 'fov',\n 'fps',\n 'fragrance',\n 'france',\n 'francisco',\n 'free',\n 'frente',\n 'frgveh',\n 'fri',\n 'friday',\n 'friends',\n 'from',\n 'front',\n 'fs',\n 'fsg',\n 'fssitvkkyk',\n 'ft',\n 'ftel',\n 'ftjc',\n 'fu',\n 'fuchu',\n 'fuck',\n 'fucyu',\n 'fuel',\n 'fufu',\n 'fufufu',\n 'fuji',\n 'fukumasu',\n 'fukuoka',\n 'full',\n 'fumido',\n 'function',\n 'fury',\n 'future',\n 'fuutaro',\n 'fvbb',\n 'fweb',\n 'fwlt',\n 'fx',\n 'fxxkin',\n 'fykoj',\n 'fz',\n 'fライナー',\n 'g',\n 'ga',\n 'gaban',\n 'gachi',\n 'gadulin',\n 'gaku',\n 'gakudai',\n 'gal',\n 'galic',\n 'gallery',\n 'gamushara',\n 'gamusharagroup',\n 'ganbareramen',\n 'ganko',\n 'gantetsu',\n 'gap',\n 'garaku',\n 'garden',\n 'garlicnoodles',\n 'gary',\n 'gatsby',\n 'gdgd',\n 'gdo',\n 'gekisema',\n 'gen',\n 'generation',\n 'genraku',\n 'genre',\n 'gentle',\n 'get',\n 'getelementbyid',\n 'getelementsbytagname',\n 'getpocket',\n 'gi',\n 'gift',\n 'gihfoinstagram',\n 'gij',\n 'gillan',\n 'gingermember',\n 'ginza',\n 'ginzasix',\n 'give',\n 'giveup',\n 'gj',\n 'gkr',\n 'gl',\n 'glass',\n 'glay',\n 'glee',\n 'global',\n 'glory',\n 'gludia',\n 'gluten',\n 'gm',\n 'gnavi',\n 'go',\n 'gobi',\n 'god',\n 'godd',\n 'gods',\n 'godzilla',\n 'gogo',\n 'gohfwn',\n 'going',\n 'gold',\n 'golden',\n 'goma',\n 'gonokamiseisakusyo',\n 'goo',\n 'good',\n 'google',\n 'googlemap',\n 'googlemaphttps',\n 'googleマップ',\n 'google先生',\n 'goo辞書',\n 'gotbirdgo',\n 'gothenburg',\n 'gotoku',\n 'gotopleasure',\n 'gotsubo',\n 'gottsu',\n 'gouki',\n 'gourmet',\n 'gourmetwalk',\n 'gps',\n 'grand',\n 'grandcuisine',\n 'grandir',\n 'great',\n 'greatcooking',\n 'grilleddumplings',\n 'grimsby',\n 'grory',\n 'group',\n 'grouse',\n 'grow',\n 'growth',\n 'growz',\n 'gs',\n 'gsix',\n 'gsグループ',\n 'gt',\n 'gtwu',\n 'gu',\n 'guardian',\n 'guchiyama',\n 'guide',\n 'guidenankaihawks',\n 'guillotine',\n 'guj',\n 'gumi',\n ...]"
     },
     "execution_count": 22,
     "metadata": {},
     "output_type": "execute_result"
    }
   ],
   "source": [
    "feature_names = vectrizer.get_feature_names()\n",
    "# vectrizer.get_feature_names()\n",
    "# X\n",
    "feature_names"
   ]
  },
  {
   "cell_type": "code",
   "execution_count": 34,
   "metadata": {},
   "outputs": [],
   "source": [
    "def avg_feature_vectors(words, model):\n",
    "    feature_vec = np.zeros(vector_size, dtype='float32')\n",
    "    for word in words:\n",
    "        try:\n",
    "            feature_vec = np.add(feature_vec, model[word])\n",
    "        except KeyError:\n",
    "            # print(word)\n",
    "            pass\n",
    "\n",
    "    return feature_vec"
   ]
  },
  {
   "cell_type": "code",
   "execution_count": 35,
   "metadata": {},
   "outputs": [
    {
     "name": "stderr",
     "output_type": "stream",
     "text": "/Users/kazuki_takahashi/Library/Python/3.7/lib/python/site-packages/ipykernel_launcher.py:5: DeprecationWarning: Call to deprecated `__getitem__` (Method will be removed in 4.0.0, use self.wv.__getitem__() instead).\n  \"\"\"\n"
    },
    {
     "data": {
      "text/plain": "array([ 1.5006418e+00,  1.4267657e+00, -1.2165003e+00,  1.8332287e+00,\n       -2.4734023e-01, -1.7145119e+00, -5.4836458e-01,  1.4006644e+00,\n        2.5735673e-01, -3.7496507e-02, -3.0859530e-01, -1.8600399e+00,\n        5.0292140e-01, -1.2265253e+00,  1.1540104e+00, -2.5370295e+00,\n        2.7201480e-01,  1.5163113e+00, -1.2764060e+00, -1.4737046e+00,\n        6.3026011e-02, -2.3077202e+00,  1.5723908e-01,  5.1920080e-01,\n       -2.6685888e-01, -5.3555250e-01, -2.4342296e+00, -1.0829518e+00,\n       -5.5123711e-01,  8.9728838e-01,  2.9415092e-01, -2.0303862e+00,\n        3.4530807e+00, -6.3203037e-01,  1.5890864e-01, -1.4407407e+00,\n       -2.1525063e-01,  1.7000341e-01,  1.6810092e-01,  1.4574926e+00,\n        5.3737819e-01,  5.4259586e-01,  9.0763688e-01, -5.1547664e-01,\n       -1.3292191e+00, -1.6233336e+00,  1.1925880e+00, -1.0420419e+00,\n        7.2341394e-01,  1.0342604e+00, -1.1196646e-01,  3.2398146e-01,\n        1.6428232e-01,  3.4621358e-03, -5.9493065e-01,  1.6565794e-01,\n       -1.0248467e+00,  4.7029185e-01,  1.2878772e+00, -8.1920177e-01,\n        8.3806589e-02,  7.3506469e-01,  7.2318888e-01,  7.0745945e-01,\n       -8.2427263e-04, -1.3886906e+00, -2.3720622e-01,  2.2405767e-01,\n       -3.6453389e-02,  1.4409683e+00, -2.1054390e-01,  2.1861833e-01,\n       -1.4553452e+00,  2.2544000e+00, -9.0718585e-01,  6.2101674e-01,\n        4.7529256e-01, -1.4855717e+00, -8.7267953e-01, -9.2040306e-01,\n        1.3366692e-01,  1.7053242e+00, -9.0175289e-01,  1.8280804e-02,\n       -4.1563872e-01,  1.3614587e+00,  1.6094538e+00, -1.1890740e+00,\n        5.6959927e-01,  8.8842517e-01,  1.5671986e-01, -1.4099097e+00,\n       -5.3051420e-02, -3.1286678e-01, -3.4124207e-01,  6.7166424e-01,\n       -1.4497001e+00, -2.2978685e+00,  1.2246928e+00,  1.2690535e+00,\n        1.9758783e-02, -1.0229270e+00, -5.3541082e-01, -3.1531322e-01,\n        9.0862501e-01,  1.0631061e-01,  9.3975079e-01,  2.1096964e+00,\n        1.1832763e+00, -1.8261719e+00, -1.4599710e+00, -1.1859338e-01,\n       -7.5964648e-01, -6.3604152e-01, -1.8422225e-01, -1.4271379e+00,\n        9.1963515e-02,  1.0141652e+00, -8.1122088e-01, -2.6282296e-01,\n        9.7114950e-01, -1.4454626e-01,  8.5259181e-01, -8.9781523e-02,\n       -1.4902307e+00,  1.7937466e+00, -2.0066986e+00, -1.8135228e+00,\n       -1.3831806e+00, -2.4716333e-01, -1.1825405e+00, -5.4619741e-01,\n        5.8897674e-01, -6.6070318e-01,  3.1663433e-01,  9.1712189e-01,\n       -1.2764353e-01,  3.8402182e-01,  1.0884507e+00, -8.2172528e-02,\n        8.7174201e-01,  4.8720992e-01, -1.2737502e+00, -7.9668278e-01,\n        1.5724131e+00,  1.3226888e+00,  1.6180751e+00,  7.5045538e-01,\n        3.9532882e-01,  7.6986182e-01, -4.8724920e-01, -1.5108136e+00,\n        1.7280194e+00, -1.3198518e+00,  2.8157762e-01, -1.7335542e+00,\n       -1.8290865e+00,  4.7644424e-01, -1.1914922e-01, -8.2362968e-01,\n        1.7359048e+00,  5.0302297e-01, -7.7673578e-01,  6.6531844e-02,\n       -1.3143965e+00,  5.2071822e-01,  4.6263731e-01, -7.7597630e-01,\n       -1.3829581e+00, -9.2006046e-01, -6.7345238e-01,  2.0296097e+00,\n        6.9325113e-01,  2.5725498e+00,  6.6839710e-02, -5.0190765e-01,\n        3.4327498e-01, -3.2387143e-01,  1.1013032e+00, -6.5899384e-01,\n       -1.5848398e+00,  1.8295605e-01,  5.6229043e-01,  6.6488087e-03,\n       -1.7942270e+00,  5.3720450e-01, -6.1225152e-01, -3.8868544e-01,\n        1.8445011e+00,  2.6282649e+00,  9.3910024e-02, -2.7055326e-01,\n       -1.0849377e+00,  4.5445535e-01,  6.7330337e-01, -1.3411237e+00,\n       -3.7994641e-01, -1.0145397e+00, -7.5559306e-01, -7.2296917e-01,\n        6.5565139e-01, -5.9935093e-01, -9.4202107e-01,  7.4052620e-01,\n       -1.2386634e+00, -2.0462983e+00, -1.3013680e+00, -5.4176480e-02,\n        6.7760777e-01, -1.0618101e+00, -7.3242718e-01, -3.4561798e-01,\n        7.0285809e-01, -8.2952464e-01, -4.6584725e-02, -4.7471353e-01,\n        9.4306999e-01,  1.7314502e+00, -2.2962204e-01, -6.3402373e-01,\n       -1.1490738e+00, -3.5980028e-01,  1.1411089e+00, -1.0873975e+00,\n       -1.3311478e+00,  1.4772364e-01,  1.2983222e+00, -1.2366365e+00,\n        7.7717102e-01,  1.2096683e+00,  3.1506830e-01,  4.2913157e-01,\n        1.2116721e-01, -9.9577779e-01,  9.6075320e-01, -3.8859308e-02,\n        4.5176426e-01, -8.3987522e-01,  1.2434222e+00, -5.1103926e-01,\n        2.6863079e+00, -7.8000700e-01,  6.7061377e-01, -2.8036532e-01,\n       -1.6469449e+00, -2.6048827e+00, -7.7296728e-01,  1.4756235e+00,\n        2.1773131e+00, -5.1317549e-01], dtype=float32)"
     },
     "execution_count": 35,
     "metadata": {},
     "output_type": "execute_result"
    }
   ],
   "source": [
    "avg_feature_vectors([\"みそ\", '醬油'], cbow_model)"
   ]
  },
  {
   "cell_type": "code",
   "execution_count": 27,
   "metadata": {},
   "outputs": [
    {
     "name": "stdout",
     "output_type": "stream",
     "text": "一枚目\n柴田氏\n柴田氏\n成田\n福一\n琴線\n柴田氏\n柴田\n手つかず\n特攻\n直射\n武州\n轟\n格式\n尻すぼみ\n手抜かり\nくせになりそう\n足代\n王様のブランチ\n干しシイタケ\n柴田\n花嵐\nコラボメニュー\n軟化\n大口\n高野\nデーター\n三位\nウマッ\nウマッ\n特番\n末尾\n書籍\nOPPORTUNITY\nエベンペーガン\nkaolianmarket\nik\nトピック\n淀み\n鴨地\nよすぎ\nおとこ\n玉水\nサーバ\nバーブ\n新百合ヶ丘\nパツッ\nコリッ\n夫々\n幹\n価格差\n支払額\n粉唐辛子\nタイムラグ\n手許\n何食わぬ顔\n仰天\n洋式\n男女兼用\nゆう\nget\nスゲェ\n指先\nサクラ色\nとだな\n/Users/kazuki_takahashi/Library/Python/3.7/lib/python/site-packages/ipykernel_launcher.py:5: DeprecationWarning: Call to deprecated `__getitem__` (Method will be removed in 4.0.0, use self.wv.__getitem__() instead).\n  \"\"\"\n"
    },
    {
     "data": {
      "text/plain": "array([-4.56192871e+02, -5.10671051e+02, -8.40952087e+02,  4.24227448e+02,\n        5.51662415e+02, -5.23827820e+02, -6.19338745e+02,  2.75907745e+02,\n        5.56877563e+02, -7.42640198e+02,  3.96572479e+02, -1.42772369e+02,\n        5.88770409e+01,  9.69283936e+02, -2.09881180e+02, -1.78751968e+02,\n        3.42962524e+02, -7.33821045e+02,  1.23623268e+02,  3.80822052e+02,\n        3.89262817e+02, -1.04564075e+03, -4.97311401e+02,  2.24252453e+01,\n       -5.05028595e+02, -2.36286926e+02,  7.36947861e+01, -9.85929504e+02,\n       -8.62322021e+02,  2.54878723e+02, -2.94256927e+02, -6.12469055e+02,\n        1.52957983e+03, -1.63201523e+02,  4.24608032e+02, -6.46821167e+02,\n       -1.30639722e+03,  5.73638992e+01,  1.28503891e+02,  8.04398865e+02,\n        2.90475067e+02, -3.95582123e+02,  7.57942749e+02,  3.61537415e+02,\n       -4.58546967e+02,  2.07787079e+02, -4.71953125e+02, -2.27718544e+01,\n        3.20369812e+02,  1.76172272e+02,  1.87793167e+02,  4.78113434e+02,\n        8.05512329e+02,  2.63515076e+02,  3.92642632e+01, -7.57042664e+02,\n        3.07095490e+02,  6.30627747e+01, -3.45663261e+01, -3.74650818e+02,\n       -1.39693787e+03, -6.21227798e+01,  3.28365540e+02, -6.44954346e+02,\n       -1.13984900e+03,  7.68274841e+02, -2.41144501e+02,  9.64847473e+02,\n       -4.70010498e+02, -5.50893545e-01, -7.24162537e+02,  4.08834473e+02,\n       -2.34379196e+02,  8.84541138e+02,  1.74313147e+03,  4.26257690e+02,\n        5.83544159e+01, -5.70316040e+02, -3.18035675e+02,  1.07464771e+03,\n       -1.28004166e+02, -3.59916748e+02, -4.25094513e+02, -2.95194366e+02,\n       -9.38171204e+02, -1.45408203e+03, -5.88344360e+02,  3.36301544e+02,\n        1.51886627e+02,  4.72838593e+02,  2.92086639e+02, -2.52993423e+02,\n       -7.10916748e+01, -4.60952942e+02, -3.93996460e+02,  9.79080017e+02,\n       -4.44224121e+02, -2.06649384e+02,  1.15521069e+03,  1.56928528e+02,\n        2.17725849e+01, -1.76831329e+02,  3.53471191e+02, -5.49820557e+02,\n        3.61537140e+02,  4.04660706e+02,  7.20986267e+02, -4.91881897e+02,\n       -1.09106006e+03,  3.98173126e+02,  2.03911606e+02,  1.68341721e+02,\n        2.78370453e+02, -1.08042160e+02, -2.24935013e+02, -4.75285339e+02,\n       -6.28955139e+02, -6.84244202e+02, -6.81656860e+02,  1.30902698e+03,\n       -1.14647375e+03,  6.14347351e+02, -6.53295135e+01, -4.37086029e+02,\n        5.91247070e+02, -2.45371056e+01, -9.19357666e+02, -1.16083105e+03,\n        2.66300415e+02, -2.89055847e+02,  6.91661560e+02, -1.79474564e+02,\n        3.59867020e+01, -4.06922302e+02,  3.19506470e+02, -4.27868439e+02,\n       -1.04394531e+03,  9.19604187e+02,  1.37633447e+03, -4.30056702e+02,\n       -6.25469788e+02, -3.11962677e+02, -1.47721887e+03,  3.81816826e+01,\n        2.23427414e+02, -4.41576782e+02, -5.93489746e+02,  8.82786026e+01,\n        1.07040222e+02,  8.87549988e+02, -4.50858276e+02, -1.62573608e+02,\n        4.99617523e+02, -5.61784790e+02, -4.94025238e+02,  9.69024719e+02,\n       -9.58609375e+02,  1.94450180e+02,  4.09382896e+01,  2.24634338e+02,\n       -9.91406403e+01, -7.92349487e+02, -8.41974243e+02,  3.58084595e+02,\n       -1.31692352e+02, -6.42919861e+02,  2.33328522e+02, -1.32951355e+03,\n        1.20972095e+03,  3.25298126e+02,  5.06453522e+02, -2.01905408e+03,\n       -5.75079895e+02,  1.37697156e+03,  1.23290184e+02, -1.24932617e+03,\n       -3.41947357e+02,  2.30529526e+02, -4.81021210e+02,  2.66596802e+02,\n        1.47697418e+02, -6.59050903e+02, -1.97876831e+02, -1.07742798e+03,\n        4.32613281e+02, -1.90334396e+02, -1.01625259e+02, -9.10534668e+01,\n        1.32837756e+03, -1.28730850e+02, -4.97439575e+01,  5.40615784e+02,\n       -6.95843506e+02,  4.32626587e+02, -1.75919281e+02,  2.85918884e+01,\n        5.33162476e+02, -1.08690637e+03, -3.70721069e+02, -2.34262466e+02,\n       -1.06263752e+01, -7.37521362e+01,  5.56933441e+01, -3.23360901e+02,\n       -1.47683594e+02, -1.34873543e+01, -1.09023148e+02, -7.46479034e+01,\n        7.63267517e+02,  2.70981842e+02,  1.05856738e+03,  2.25868759e+02,\n        2.53013153e+02, -4.47337219e+02, -8.20100830e+02, -9.12061890e+02,\n        3.86147400e+02, -7.91412476e+02, -1.68147537e+02,  8.35607300e+02,\n        9.93070450e+01, -1.70699234e+02, -3.48012512e+02, -5.13261597e+02,\n       -5.11071539e+00, -2.46263016e+02,  1.73964752e+02,  3.56068481e+02,\n        9.53443726e+02, -4.38811584e+02, -3.35199402e+02, -4.78682495e+02,\n        3.92618927e+02, -1.76010376e+02, -9.92626709e+02, -1.36831940e+02,\n        7.93028870e+02,  2.08201981e+02,  3.88076935e+02,  5.23461121e+02,\n        4.05270172e+02,  1.42813904e+02, -2.83909973e+02,  5.38748474e+02,\n       -7.91885742e+02, -2.21547363e+02,  2.98051117e+02, -1.23735031e+02,\n       -2.17987335e+02, -7.19891663e+02], dtype=float32)"
     },
     "execution_count": 27,
     "metadata": {},
     "output_type": "execute_result"
    }
   ],
   "source": [
    "for review in review_df['wakati_review']:\n",
    "    review_sentence = review.split(\" \")\n",
    "    vec = avg_feature_vectors(review_sentence, cbow_model)\n",
    "    \n",
    "vec\n",
    "\n"
   ]
  },
  {
   "cell_type": "code",
   "execution_count": 38,
   "metadata": {},
   "outputs": [],
   "source": [
    "def sentence_similarity(sentence1, sentence2):\n",
    "    sentence1_avg_vector = avg_feature_vectors(sentence1, cbow_model)\n",
    "    sentence2_avg_vector = avg_feature_vectors(sentence2, cbow_model)\n",
    "\n",
    "    return 1 - spatial.distance.cosine(sentence1_avg_vector, sentence2_avg_vector)"
   ]
  },
  {
   "cell_type": "code",
   "execution_count": 49,
   "metadata": {},
   "outputs": [
    {
     "name": "stderr",
     "output_type": "stream",
     "text": "/Users/kazuki_takahashi/Library/Python/3.7/lib/python/site-packages/ipykernel_launcher.py:5: DeprecationWarning: Call to deprecated `__getitem__` (Method will be removed in 4.0.0, use self.wv.__getitem__() instead).\n  \"\"\"\n"
    }
   ],
   "source": [
    "# result = sentence_similarity(review_df['wakati_review'][5], ['煮干し', '中華そば'])"
   ]
  },
  {
   "cell_type": "code",
   "execution_count": 58,
   "metadata": {},
   "outputs": [],
   "source": [
    "result = []"
   ]
  },
  {
   "cell_type": "code",
   "execution_count": 76,
   "metadata": {},
   "outputs": [
    {
     "name": "stderr",
     "output_type": "stream",
     "text": "/Users/kazuki_takahashi/Library/Python/3.7/lib/python/site-packages/ipykernel_launcher.py:5: DeprecationWarning: Call to deprecated `__getitem__` (Method will be removed in 4.0.0, use self.wv.__getitem__() instead).\n  \"\"\"\n"
    }
   ],
   "source": [
    "for review in review_df['wakati_review']:\n",
    "    score = sentence_similarity(review, ['醬油'])\n",
    "    result.append(score*100)"
   ]
  },
  {
   "cell_type": "code",
   "execution_count": 77,
   "metadata": {},
   "outputs": [
    {
     "data": {
      "text/plain": "42.68302321434021"
     },
     "execution_count": 77,
     "metadata": {},
     "output_type": "execute_result"
    }
   ],
   "source": [
    "l = sorted(result, reverse=True)\n",
    "l[0]"
   ]
  },
  {
   "cell_type": "code",
   "execution_count": 78,
   "metadata": {},
   "outputs": [
    {
     "name": "stderr",
     "output_type": "stream",
     "text": "/Users/kazuki_takahashi/Library/Python/3.7/lib/python/site-packages/ipykernel_launcher.py:5: DeprecationWarning: Call to deprecated `__getitem__` (Method will be removed in 4.0.0, use self.wv.__getitem__() instead).\n  \"\"\"\n"
    }
   ],
   "source": [
    "for review in review_df['wakati_review']:\n",
    "    score = sentence_similarity(review, ['味噌'])\n",
    "    result.append(score*100)"
   ]
  },
  {
   "cell_type": "code",
   "execution_count": null,
   "metadata": {},
   "outputs": [],
   "source": []
  }
 ]
}