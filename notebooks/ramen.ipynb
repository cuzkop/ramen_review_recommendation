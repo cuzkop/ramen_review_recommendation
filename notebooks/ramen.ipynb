{
 "nbformat": 4,
 "nbformat_minor": 2,
 "metadata": {
  "language_info": {
   "name": "python",
   "codemirror_mode": {
    "name": "ipython",
    "version": 3
   },
   "version": "3.7.4-final"
  },
  "orig_nbformat": 2,
  "file_extension": ".py",
  "mimetype": "text/x-python",
  "name": "python",
  "npconvert_exporter": "python",
  "pygments_lexer": "ipython3",
  "version": 3,
  "kernelspec": {
   "name": "python37464bitbd28dba388f24ab5b98956ad02abee7e",
   "display_name": "Python 3.7.4 64-bit"
  }
 },
 "cells": [
  {
   "cell_type": "code",
   "execution_count": 1,
   "metadata": {},
   "outputs": [],
   "source": [
    "import pandas as pd"
   ]
  },
  {
   "cell_type": "code",
   "execution_count": 4,
   "metadata": {},
   "outputs": [],
   "source": [
    "'''\n",
    "csvの読み込み\n",
    "電波途切れた関係で100店舗のもの（../csv/review_100.csv）とそれ以外の全てのデータ(../csv/review_1100.csv)が存在する\n",
    "これをあとでマージ\n",
    "'''\n",
    "\n",
    "review_100 = pd.read_csv('../csv/review_100.csv') # shape(99,8)\n",
    "review_other = pd.read_csv('../csv/review_1100.csv') # shape(999,8)"
   ]
  },
  {
   "cell_type": "code",
   "execution_count": 10,
   "metadata": {},
   "outputs": [
    {
     "data": {
      "text/plain": "0      0\n1      1\n2      2\n3      3\n4      4\n      ..\n94    94\n95    95\n96    96\n97    97\n98    98\nName: Unnamed: 0, Length: 99, dtype: int64"
     },
     "execution_count": 10,
     "metadata": {},
     "output_type": "execute_result"
    }
   ],
   "source": [
    "review_100['Unnamed: 0']"
   ]
  },
  {
   "cell_type": "code",
   "execution_count": null,
   "metadata": {},
   "outputs": [],
   "source": []
  }
 ]
}