{
 "nbformat": 4,
 "nbformat_minor": 2,
 "metadata": {
  "language_info": {
   "name": "python",
   "codemirror_mode": {
    "name": "ipython",
    "version": 3
   },
   "version": "3.7.4-final"
  },
  "orig_nbformat": 2,
  "file_extension": ".py",
  "mimetype": "text/x-python",
  "name": "python",
  "npconvert_exporter": "python",
  "pygments_lexer": "ipython3",
  "version": 3,
  "kernelspec": {
   "name": "python37464bitbd28dba388f24ab5b98956ad02abee7e",
   "display_name": "Python 3.7.4 64-bit"
  }
 },
 "cells": [
  {
   "cell_type": "code",
   "execution_count": 72,
   "metadata": {},
   "outputs": [],
   "source": [
    "import pandas as pd\n",
    "import numpy as np\n",
    "from scipy import spatial\n",
    "from gensim.models import word2vec\n",
    "import pickle\n",
    "\n",
    "vector_size = 250"
   ]
  },
  {
   "cell_type": "code",
   "execution_count": 73,
   "metadata": {},
   "outputs": [],
   "source": [
    "'''\n",
    "csv読み込み\n",
    "store_idをindexに変更\n",
    "'''\n",
    "\n",
    "df = pd.read_csv('/Users/kazuki_takahashi/Desktop/python_study/datamix_ramen/csv/review_wakati.csv')\n",
    "df = df.drop(['store_id'],axis=1)\n",
    "df = df.rename(columns={'Unnamed: 0':'store_id'}).set_index('store_id')"
   ]
  },
  {
   "cell_type": "code",
   "execution_count": 74,
   "metadata": {},
   "outputs": [],
   "source": [
    "'''\n",
    "pickleで学習済みreview達のvector読み出し\n",
    "'''\n",
    "\n",
    "f = open(\"../pickle/skip_list.txt\",\"rb\")\n",
    "skip_list = pickle.load(f)\n",
    "f.close()"
   ]
  },
  {
   "cell_type": "code",
   "execution_count": 75,
   "metadata": {},
   "outputs": [],
   "source": [
    "'''\n",
    "学習済みモデルの読み出し\n",
    "'''\n",
    "\n",
    "model = word2vec.Word2Vec.load('/Users/kazuki_takahashi/Desktop/python_study/datamix_ramen/models/skip_w2v.model')"
   ]
  },
  {
   "cell_type": "code",
   "execution_count": 76,
   "metadata": {},
   "outputs": [
    {
     "data": {
      "text/plain": "'\\nここまで準備\\n'"
     },
     "execution_count": 76,
     "metadata": {},
     "output_type": "execute_result"
    }
   ],
   "source": [
    "'''\n",
    "ここまで準備\n",
    "'''"
   ]
  },
  {
   "cell_type": "code",
   "execution_count": 77,
   "metadata": {},
   "outputs": [],
   "source": [
    "def sentence_similarity(vec1, vec2):\n",
    "    '''\n",
    "    二つの文章のコサイン類似度を返す\n",
    "    '''\n",
    "    return 1 - spatial.distance.cosine(vec1, vec2)"
   ]
  },
  {
   "cell_type": "code",
   "execution_count": 78,
   "metadata": {},
   "outputs": [
    {
     "name": "stderr",
     "output_type": "stream",
     "text": "/Users/kazuki_takahashi/Library/Python/3.7/lib/python/site-packages/ipykernel_launcher.py:5: DeprecationWarning: Call to deprecated `__getitem__` (Method will be removed in 4.0.0, use self.wv.__getitem__() instead).\n  \"\"\"\n"
    }
   ],
   "source": [
    "'''\n",
    "store_idをkeyに指定文書と各行のreviewのコサイン類似度をスコアとして入れる\n",
    "'''\n",
    "\n",
    "result = {}\n",
    "keyword = avg_feature_vectors(['カレー', '極太'], model)\n",
    "for i, row in df.iterrows():\n",
    "    score = sentence_similarity(keyword, skip_list[i])\n",
    "    result[i] = score * row.score\n"
   ]
  },
  {
   "cell_type": "code",
   "execution_count": 79,
   "metadata": {},
   "outputs": [],
   "source": [
    "'''\n",
    "scoreの高い順にsort\n",
    "'''\n",
    "\n",
    "score_sorted = sorted(result.items(), key=lambda x:x[1], reverse=True)"
   ]
  },
  {
   "cell_type": "code",
   "execution_count": 80,
   "metadata": {},
   "outputs": [
    {
     "name": "stdout",
     "output_type": "stream",
     "text": "店名:しゅういち 恵比寿店, 食べログスコア:3.54, 独自スコア:227.13, 最寄駅:恵比寿\n店名:インディアン 本店, 食べログスコア:3.68, 独自スコア:227.01, 最寄駅:蓮沼\n店名:徳川膳武, 食べログスコア:3.53, 独自スコア:225.13, 最寄駅:東新宿\n店名:麺屋虎杖 有楽町, 食べログスコア:3.57, 独自スコア:224.64, 最寄駅:有楽町\n店名:インディアン 池上店, 食べログスコア:3.53, 独自スコア:224.40, 最寄駅:池上\n店名:お茶の水、大勝軒 BRANCHING, 食べログスコア:3.52, 独自スコア:221.59, 最寄駅:九段下\n店名:とろ肉つけ麺 魚とん, 食べログスコア:3.64, 独自スコア:219.54, 最寄駅:小川町\n店名:スパイス・ラー麺 卍力 西葛西店, 食べログスコア:3.79, 独自スコア:216.84, 最寄駅:西葛西\n店名:お茶の水 大勝軒, 食べログスコア:3.66, 独自スコア:216.41, 最寄駅:神保町\n店名:熊公, 食べログスコア:3.56, 独自スコア:212.51, 最寄駅:浅草橋\n"
    }
   ],
   "source": [
    "'''\n",
    "score高い10件を書き出し\n",
    "'''\n",
    "\n",
    "for t in score_sorted[:10]:\n",
    "    row = df[df.index == t[0]]\n",
    "    name, score, station = row.store_name.values[0], row.score.values[0], row.station.values[0]\n",
    "    print('店名:{}, 食べログスコア:{}, 独自スコア:{:.2f}, 最寄駅:{}'.format(name,score,t[1]*100,station))\n",
    "    "
   ]
  },
  {
   "cell_type": "code",
   "execution_count": null,
   "metadata": {},
   "outputs": [],
   "source": []
  }
 ]
}