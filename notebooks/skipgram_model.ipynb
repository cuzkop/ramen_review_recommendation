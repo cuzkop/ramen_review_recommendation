{
 "nbformat": 4,
 "nbformat_minor": 2,
 "metadata": {
  "language_info": {
   "name": "python",
   "codemirror_mode": {
    "name": "ipython",
    "version": 3
   },
   "version": "3.7.4-final"
  },
  "orig_nbformat": 2,
  "file_extension": ".py",
  "mimetype": "text/x-python",
  "name": "python",
  "npconvert_exporter": "python",
  "pygments_lexer": "ipython3",
  "version": 3,
  "kernelspec": {
   "name": "python37464bitbd28dba388f24ab5b98956ad02abee7e",
   "display_name": "Python 3.7.4 64-bit"
  }
 },
 "cells": [
  {
   "cell_type": "code",
   "execution_count": 19,
   "metadata": {},
   "outputs": [],
   "source": [
    "import pandas as pd\n",
    "import numpy as np\n",
    "from scipy import spatial\n",
    "from gensim.models import word2vec\n",
    "\n",
    "vector_size = 250"
   ]
  },
  {
   "cell_type": "code",
   "execution_count": 20,
   "metadata": {},
   "outputs": [],
   "source": [
    "df = pd.read_csv('/Users/kazuki_takahashi/Desktop/python_study/datamix_ramen/csv/review_wakati.csv')"
   ]
  },
  {
   "cell_type": "code",
   "execution_count": 21,
   "metadata": {},
   "outputs": [
    {
     "data": {
      "text/html": "<div>\n<style scoped>\n    .dataframe tbody tr th:only-of-type {\n        vertical-align: middle;\n    }\n\n    .dataframe tbody tr th {\n        vertical-align: top;\n    }\n\n    .dataframe thead th {\n        text-align: right;\n    }\n</style>\n<table border=\"1\" class=\"dataframe\">\n  <thead>\n    <tr style=\"text-align: right;\">\n      <th></th>\n      <th>Unnamed: 0</th>\n      <th>store_id</th>\n      <th>store_name</th>\n      <th>score</th>\n      <th>station</th>\n      <th>review</th>\n      <th>wakati_review</th>\n    </tr>\n  </thead>\n  <tbody>\n    <tr>\n      <th>0</th>\n      <td>0</td>\n      <td>1</td>\n      <td>中華そば しば田</td>\n      <td>4.06</td>\n      <td>仙川</td>\n      <td>開店前から長蛇の列(  ロ)゚ ゚開店前10前に到着しましたが、ありつけるまで、1間半を要し...</td>\n      <td>開店 前 長蛇 列 ロ ゚ ゚ 開店 前 前 到着 間 半 そこ 東京 やはり 規模 の 夜...</td>\n    </tr>\n    <tr>\n      <th>1</th>\n      <td>1</td>\n      <td>2</td>\n      <td>Homemade Ramen 麦苗</td>\n      <td>4.02</td>\n      <td>大森海岸</td>\n      <td>わがままボディーの後輩との東京遠征2目の昼。実に4ぶりとなるこちらへ。当から行列のできるラー...</td>\n      <td>わがまま ボディー 後輩 東京 遠征 目 昼 実に ぶり こちら 当 行列 ラーメン屋 食べ...</td>\n    </tr>\n    <tr>\n      <th>2</th>\n      <td>2</td>\n      <td>3</td>\n      <td>手打式超多加水麺 ののくら</td>\n      <td>3.98</td>\n      <td>亀有</td>\n      <td>2020128 初訪TRY本で新人賞を獲った頃から行きたかった「ののくら」。今の午前中の打ち...</td>\n      <td>訪 TRY 本 新人賞 頃 のの くら 今 午前中 打ち合わせ 新小岩 午後 予定 く間 余...</td>\n    </tr>\n    <tr>\n      <th>3</th>\n      <td>3</td>\n      <td>4</td>\n      <td>中華そば 多賀野</td>\n      <td>3.97</td>\n      <td>荏原中延</td>\n      <td>中華そば750、大盛120動物系乾物系背脂醤油スープ中細ストレート麺ちょいカタメ豚バラチャー...</td>\n      <td>中華そば 大盛 動物 系 乾物 系 背脂 醤油 スープ 中 細 ストレート麺 ちょい カタメ...</td>\n    </tr>\n    <tr>\n      <th>4</th>\n      <td>4</td>\n      <td>5</td>\n      <td>麺庵ちとせ</td>\n      <td>3.97</td>\n      <td>若松河田</td>\n      <td>百名店ラーメンTOKYO2019の51店目は曙橋の『麺庵ちとせ』さんへ地下鉄の駅からお店へと...</td>\n      <td>百名 店 ラーメン TOKYO 店 目 曙 橋 麺 庵 ちとせ さん 地下鉄 駅 店 坂道 ...</td>\n    </tr>\n  </tbody>\n</table>\n</div>",
      "text/plain": "   Unnamed: 0  store_id         store_name  score station  \\\n0           0         1           中華そば しば田   4.06      仙川   \n1           1         2  Homemade Ramen 麦苗   4.02    大森海岸   \n2           2         3      手打式超多加水麺 ののくら   3.98      亀有   \n3           3         4           中華そば 多賀野   3.97    荏原中延   \n4           4         5              麺庵ちとせ   3.97    若松河田   \n\n                                              review  \\\n0  開店前から長蛇の列(  ロ)゚ ゚開店前10前に到着しましたが、ありつけるまで、1間半を要し...   \n1  わがままボディーの後輩との東京遠征2目の昼。実に4ぶりとなるこちらへ。当から行列のできるラー...   \n2  2020128 初訪TRY本で新人賞を獲った頃から行きたかった「ののくら」。今の午前中の打ち...   \n3  中華そば750、大盛120動物系乾物系背脂醤油スープ中細ストレート麺ちょいカタメ豚バラチャー...   \n4  百名店ラーメンTOKYO2019の51店目は曙橋の『麺庵ちとせ』さんへ地下鉄の駅からお店へと...   \n\n                                       wakati_review  \n0  開店 前 長蛇 列 ロ ゚ ゚ 開店 前 前 到着 間 半 そこ 東京 やはり 規模 の 夜...  \n1  わがまま ボディー 後輩 東京 遠征 目 昼 実に ぶり こちら 当 行列 ラーメン屋 食べ...  \n2  訪 TRY 本 新人賞 頃 のの くら 今 午前中 打ち合わせ 新小岩 午後 予定 く間 余...  \n3  中華そば 大盛 動物 系 乾物 系 背脂 醤油 スープ 中 細 ストレート麺 ちょい カタメ...  \n4  百名 店 ラーメン TOKYO 店 目 曙 橋 麺 庵 ちとせ さん 地下鉄 駅 店 坂道 ...  "
     },
     "execution_count": 21,
     "metadata": {},
     "output_type": "execute_result"
    }
   ],
   "source": [
    "df.head()"
   ]
  },
  {
   "cell_type": "code",
   "execution_count": 22,
   "metadata": {},
   "outputs": [],
   "source": [
    "df = df.drop(['store_id'],axis=1)"
   ]
  },
  {
   "cell_type": "code",
   "execution_count": 23,
   "metadata": {},
   "outputs": [
    {
     "data": {
      "text/html": "<div>\n<style scoped>\n    .dataframe tbody tr th:only-of-type {\n        vertical-align: middle;\n    }\n\n    .dataframe tbody tr th {\n        vertical-align: top;\n    }\n\n    .dataframe thead th {\n        text-align: right;\n    }\n</style>\n<table border=\"1\" class=\"dataframe\">\n  <thead>\n    <tr style=\"text-align: right;\">\n      <th></th>\n      <th>store_name</th>\n      <th>score</th>\n      <th>station</th>\n      <th>review</th>\n      <th>wakati_review</th>\n    </tr>\n    <tr>\n      <th>store_id</th>\n      <th></th>\n      <th></th>\n      <th></th>\n      <th></th>\n      <th></th>\n    </tr>\n  </thead>\n  <tbody>\n    <tr>\n      <th>0</th>\n      <td>中華そば しば田</td>\n      <td>4.06</td>\n      <td>仙川</td>\n      <td>開店前から長蛇の列(  ロ)゚ ゚開店前10前に到着しましたが、ありつけるまで、1間半を要し...</td>\n      <td>開店 前 長蛇 列 ロ ゚ ゚ 開店 前 前 到着 間 半 そこ 東京 やはり 規模 の 夜...</td>\n    </tr>\n    <tr>\n      <th>1</th>\n      <td>Homemade Ramen 麦苗</td>\n      <td>4.02</td>\n      <td>大森海岸</td>\n      <td>わがままボディーの後輩との東京遠征2目の昼。実に4ぶりとなるこちらへ。当から行列のできるラー...</td>\n      <td>わがまま ボディー 後輩 東京 遠征 目 昼 実に ぶり こちら 当 行列 ラーメン屋 食べ...</td>\n    </tr>\n    <tr>\n      <th>2</th>\n      <td>手打式超多加水麺 ののくら</td>\n      <td>3.98</td>\n      <td>亀有</td>\n      <td>2020128 初訪TRY本で新人賞を獲った頃から行きたかった「ののくら」。今の午前中の打ち...</td>\n      <td>訪 TRY 本 新人賞 頃 のの くら 今 午前中 打ち合わせ 新小岩 午後 予定 く間 余...</td>\n    </tr>\n    <tr>\n      <th>3</th>\n      <td>中華そば 多賀野</td>\n      <td>3.97</td>\n      <td>荏原中延</td>\n      <td>中華そば750、大盛120動物系乾物系背脂醤油スープ中細ストレート麺ちょいカタメ豚バラチャー...</td>\n      <td>中華そば 大盛 動物 系 乾物 系 背脂 醤油 スープ 中 細 ストレート麺 ちょい カタメ...</td>\n    </tr>\n    <tr>\n      <th>4</th>\n      <td>麺庵ちとせ</td>\n      <td>3.97</td>\n      <td>若松河田</td>\n      <td>百名店ラーメンTOKYO2019の51店目は曙橋の『麺庵ちとせ』さんへ地下鉄の駅からお店へと...</td>\n      <td>百名 店 ラーメン TOKYO 店 目 曙 橋 麺 庵 ちとせ さん 地下鉄 駅 店 坂道 ...</td>\n    </tr>\n    <tr>\n      <th>...</th>\n      <td>...</td>\n      <td>...</td>\n      <td>...</td>\n      <td>...</td>\n      <td>...</td>\n    </tr>\n    <tr>\n      <th>1094</th>\n      <td>旨辛ラーメン 表裏</td>\n      <td>3.50</td>\n      <td>市ケ谷</td>\n      <td>市ヶ谷ランチシリーズ(笑)まぁいつも通りと言うか麺屋さんから攻めていくわけですね〜こちらのお...</td>\n      <td>市ヶ谷 ランチ シリーズ 笑 いつも 通り 麺 屋 さん わけ こちら 店 ん カップラーメ...</td>\n    </tr>\n    <tr>\n      <th>1095</th>\n      <td>麺屋 ほたる</td>\n      <td>3.50</td>\n      <td>板橋</td>\n      <td>板橋駅の近くにお店があります。このは昼に煮干しラーメンを食べたので繋げて魚介系のつけ麺を食べ...</td>\n      <td>板橋駅 近く 店 このは 昼 ラーメン 魚介 系 つけ麺 こと 板橋駅 徒歩 到着 裏通り ...</td>\n    </tr>\n    <tr>\n      <th>1096</th>\n      <td>中華そば ばんや</td>\n      <td>3.50</td>\n      <td>下高井戸</td>\n      <td>東京都世田谷区松原。無化調、麺スープチャーシュー水等全てを厳選、こだわり抜いた中華そば店です...</td>\n      <td>東京都世田谷区松原 無化調 麺 スープ チャーシュー 水 等 全て 厳選 中華そば 店 最寄...</td>\n    </tr>\n    <tr>\n      <th>1097</th>\n      <td>こうや麺房</td>\n      <td>3.50</td>\n      <td>本郷三丁目</td>\n      <td>クライアントの方から少し早めのランチの誘い狙いは前回訪問で好評だった江戸富士お店に向うと12...</td>\n      <td>クライアント 方 少し 早め ランチ 誘い 狙い 前回 訪問 好評 江戸 富士 店 少し 前...</td>\n    </tr>\n    <tr>\n      <th>1098</th>\n      <td>支那そば やまいち</td>\n      <td>3.50</td>\n      <td>町田</td>\n      <td>こんにちは 卓球少女です町田のラーメンと言えば、有名なお店がたくさんあるのだけど、実は隠れた...</td>\n      <td>卓球 少女 町田 ラーメン 有名 店 たくさん の 実力派 ラーメン 存在 なか 醤油ラーメ...</td>\n    </tr>\n  </tbody>\n</table>\n<p>1099 rows × 5 columns</p>\n</div>",
      "text/plain": "                 store_name  score station  \\\nstore_id                                     \n0                  中華そば しば田   4.06      仙川   \n1         Homemade Ramen 麦苗   4.02    大森海岸   \n2             手打式超多加水麺 ののくら   3.98      亀有   \n3                  中華そば 多賀野   3.97    荏原中延   \n4                     麺庵ちとせ   3.97    若松河田   \n...                     ...    ...     ...   \n1094              旨辛ラーメン 表裏   3.50     市ケ谷   \n1095                 麺屋 ほたる   3.50      板橋   \n1096               中華そば ばんや   3.50    下高井戸   \n1097                  こうや麺房   3.50   本郷三丁目   \n1098              支那そば やまいち   3.50      町田   \n\n                                                     review  \\\nstore_id                                                      \n0         開店前から長蛇の列(  ロ)゚ ゚開店前10前に到着しましたが、ありつけるまで、1間半を要し...   \n1         わがままボディーの後輩との東京遠征2目の昼。実に4ぶりとなるこちらへ。当から行列のできるラー...   \n2         2020128 初訪TRY本で新人賞を獲った頃から行きたかった「ののくら」。今の午前中の打ち...   \n3         中華そば750、大盛120動物系乾物系背脂醤油スープ中細ストレート麺ちょいカタメ豚バラチャー...   \n4         百名店ラーメンTOKYO2019の51店目は曙橋の『麺庵ちとせ』さんへ地下鉄の駅からお店へと...   \n...                                                     ...   \n1094      市ヶ谷ランチシリーズ(笑)まぁいつも通りと言うか麺屋さんから攻めていくわけですね〜こちらのお...   \n1095      板橋駅の近くにお店があります。このは昼に煮干しラーメンを食べたので繋げて魚介系のつけ麺を食べ...   \n1096      東京都世田谷区松原。無化調、麺スープチャーシュー水等全てを厳選、こだわり抜いた中華そば店です...   \n1097      クライアントの方から少し早めのランチの誘い狙いは前回訪問で好評だった江戸富士お店に向うと12...   \n1098      こんにちは 卓球少女です町田のラーメンと言えば、有名なお店がたくさんあるのだけど、実は隠れた...   \n\n                                              wakati_review  \nstore_id                                                     \n0         開店 前 長蛇 列 ロ ゚ ゚ 開店 前 前 到着 間 半 そこ 東京 やはり 規模 の 夜...  \n1         わがまま ボディー 後輩 東京 遠征 目 昼 実に ぶり こちら 当 行列 ラーメン屋 食べ...  \n2         訪 TRY 本 新人賞 頃 のの くら 今 午前中 打ち合わせ 新小岩 午後 予定 く間 余...  \n3         中華そば 大盛 動物 系 乾物 系 背脂 醤油 スープ 中 細 ストレート麺 ちょい カタメ...  \n4         百名 店 ラーメン TOKYO 店 目 曙 橋 麺 庵 ちとせ さん 地下鉄 駅 店 坂道 ...  \n...                                                     ...  \n1094      市ヶ谷 ランチ シリーズ 笑 いつも 通り 麺 屋 さん わけ こちら 店 ん カップラーメ...  \n1095      板橋駅 近く 店 このは 昼 ラーメン 魚介 系 つけ麺 こと 板橋駅 徒歩 到着 裏通り ...  \n1096      東京都世田谷区松原 無化調 麺 スープ チャーシュー 水 等 全て 厳選 中華そば 店 最寄...  \n1097      クライアント 方 少し 早め ランチ 誘い 狙い 前回 訪問 好評 江戸 富士 店 少し 前...  \n1098      卓球 少女 町田 ラーメン 有名 店 たくさん の 実力派 ラーメン 存在 なか 醤油ラーメ...  \n\n[1099 rows x 5 columns]"
     },
     "execution_count": 23,
     "metadata": {},
     "output_type": "execute_result"
    }
   ],
   "source": [
    "df = df.rename(columns={'Unnamed: 0':'store_id'}).set_index('store_id')\n",
    "df"
   ]
  },
  {
   "cell_type": "code",
   "execution_count": 24,
   "metadata": {},
   "outputs": [],
   "source": [
    "model = word2vec.Word2Vec.load('/Users/kazuki_takahashi/Desktop/python_study/datamix_ramen/models/skip_w2v.model')"
   ]
  },
  {
   "cell_type": "code",
   "execution_count": 25,
   "metadata": {},
   "outputs": [],
   "source": [
    "def avg_feature_vectors(words, model):\n",
    "    feature_vec = np.zeros(vector_size, dtype='float32')\n",
    "    for word in words:\n",
    "        try:\n",
    "            feature_vec = np.add(feature_vec, model[word])\n",
    "        except KeyError:\n",
    "            pass\n",
    "\n",
    "    return feature_vec"
   ]
  },
  {
   "cell_type": "code",
   "execution_count": 26,
   "metadata": {},
   "outputs": [],
   "source": [
    "def sentence_similarity(vec1, vec2):\n",
    "    return 1 - spatial.distance.cosine(vec1, vec2)"
   ]
  },
  {
   "cell_type": "code",
   "execution_count": 27,
   "metadata": {},
   "outputs": [
    {
     "name": "stderr",
     "output_type": "stream",
     "text": "/Users/kazuki_takahashi/Library/Python/3.7/lib/python/site-packages/ipykernel_launcher.py:5: DeprecationWarning: Call to deprecated `__getitem__` (Method will be removed in 4.0.0, use self.wv.__getitem__() instead).\n  \"\"\"\n"
    }
   ],
   "source": [
    "l = np.zeros([len(df), 250])\n",
    "for i, row in df.iterrows():\n",
    "    words = row.wakati_review.split(' ')\n",
    "    vectors = avg_feature_vectors(words,model)\n",
    "    l[i] = vectors"
   ]
  },
  {
   "cell_type": "code",
   "execution_count": 28,
   "metadata": {},
   "outputs": [
    {
     "name": "stderr",
     "output_type": "stream",
     "text": "/Users/kazuki_takahashi/Library/Python/3.7/lib/python/site-packages/ipykernel_launcher.py:5: DeprecationWarning: Call to deprecated `__getitem__` (Method will be removed in 4.0.0, use self.wv.__getitem__() instead).\n  \"\"\"\n"
    }
   ],
   "source": [
    "result = {}\n",
    "keyword = avg_feature_vectors(['行列', '醬油', 'ラーメン'], model)\n",
    "for i, row in df.iterrows():\n",
    "    score = sentence_similarity(keyword, l[i])\n",
    "    result[i] = score * row.score\n"
   ]
  },
  {
   "cell_type": "code",
   "execution_count": 29,
   "metadata": {},
   "outputs": [],
   "source": [
    "score_sorted = sorted(result.items(), key=lambda x:x[1], reverse=True)"
   ]
  },
  {
   "cell_type": "code",
   "execution_count": 30,
   "metadata": {},
   "outputs": [
    {
     "name": "stdout",
     "output_type": "stream",
     "text": "店名:SOBA HOUSE 金色不如帰, 食べログスコア:3.89, 独自スコア:279.62, 最寄駅:新宿御苑前\n店名:中華そば しば田, 食べログスコア:4.06, 独自スコア:279.01, 最寄駅:仙川\n店名:中華そば 多賀野, 食べログスコア:3.97, 独自スコア:278.87, 最寄駅:荏原中延\n店名:Homemade Ramen 麦苗, 食べログスコア:4.02, 独自スコア:274.58, 最寄駅:大森海岸\n店名:らぁ麺 すぎ本, 食べログスコア:3.95, 独自スコア:273.85, 最寄駅:鷺ノ宮\n店名:手打式超多加水麺 ののくら, 食べログスコア:3.98, 独自スコア:273.69, 最寄駅:亀有\n店名:自家製中華そば としおか, 食べログスコア:3.87, 独自スコア:272.54, 最寄駅:早稲田駅（メトロ）\n店名:麺尊 RAGE, 食べログスコア:3.96, 独自スコア:271.39, 最寄駅:西荻窪\n店名:鶏こく中華 すず喜, 食べログスコア:3.91, 独自スコア:269.98, 最寄駅:三鷹\n店名:らーめん飛粋, 食べログスコア:3.91, 独自スコア:269.43, 最寄駅:蒲田\n"
    }
   ],
   "source": [
    "for t in score_sorted[:10]:\n",
    "    row = df[df.index == t[0]]\n",
    "    name, score, station = row.store_name.values[0], row.score.values[0], row.station.values[0]\n",
    "    print('店名:{}, 食べログスコア:{}, 独自スコア:{:.2f}, 最寄駅:{}'.format(name,score,t[1]*100,station))\n",
    "    "
   ]
  },
  {
   "cell_type": "code",
   "execution_count": null,
   "metadata": {},
   "outputs": [],
   "source": []
  }
 ]
}