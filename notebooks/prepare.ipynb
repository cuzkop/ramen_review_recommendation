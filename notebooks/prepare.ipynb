{
 "nbformat": 4,
 "nbformat_minor": 2,
 "metadata": {
  "language_info": {
   "name": "python",
   "codemirror_mode": {
    "name": "ipython",
    "version": 3
   },
   "version": "3.7.4-final"
  },
  "orig_nbformat": 2,
  "file_extension": ".py",
  "mimetype": "text/x-python",
  "name": "python",
  "npconvert_exporter": "python",
  "pygments_lexer": "ipython3",
  "version": 3,
  "kernelspec": {
   "name": "python37464bitbd28dba388f24ab5b98956ad02abee7e",
   "display_name": "Python 3.7.4 64-bit"
  }
 },
 "cells": [
  {
   "cell_type": "code",
   "execution_count": 21,
   "metadata": {},
   "outputs": [],
   "source": [
    "import pandas as pd\n",
    "import MeCab\n",
    "\n",
    "mecab = MeCab.Tagger ('-d /usr/local/lib/mecab/dic/mecab-ipadic-neologd')"
   ]
  },
  {
   "cell_type": "code",
   "execution_count": 13,
   "metadata": {},
   "outputs": [],
   "source": [
    "stop_words = ['円''点','時','分','!','・',';','?','年','月','日','゚ Д ゚','ウマー']"
   ]
  },
  {
   "cell_type": "code",
   "execution_count": 2,
   "metadata": {},
   "outputs": [],
   "source": [
    "review_df = pd.read_csv('/Users/kazuki_takahashi/Desktop/python_study/datamix_ramen/csv/review.csv')"
   ]
  },
  {
   "cell_type": "code",
   "execution_count": 4,
   "metadata": {},
   "outputs": [],
   "source": [
    "review_df['station'] = review_df['station'].str.rstrip('駅')"
   ]
  },
  {
   "cell_type": "code",
   "execution_count": 9,
   "metadata": {},
   "outputs": [],
   "source": [
    "def remove_stop_words(x):\n",
    "    for s in stop_words:\n",
    "        x = x.replace(s, '')\n",
    "    return x"
   ]
  },
  {
   "cell_type": "code",
   "execution_count": 14,
   "metadata": {},
   "outputs": [],
   "source": [
    "review_df[\"review\"] = review_df[\"review\"].apply(remove_stop_words)"
   ]
  },
  {
   "cell_type": "code",
   "execution_count": 15,
   "metadata": {},
   "outputs": [],
   "source": [
    "review_df['review'] = review_df['review'].str.normalize('NFKC')"
   ]
  },
  {
   "cell_type": "code",
   "execution_count": 23,
   "metadata": {},
   "outputs": [],
   "source": [
    "def get_noun(text):\n",
    "    mecab.parse('')\n",
    "    node = mecab.parseToNode(text)\n",
    "    result = []\n",
    "\n",
    "    while node:\n",
    "        word = node.surface\n",
    "        pos,pos2 = node.feature.split(\",\")[0],node.feature.split(\",\")[1]\n",
    "        if '0' in word or '1' in word or '2' in word or '3' in word or '4' in word or '5' in word or '6' in word or '7' in word or '8' in word or '9' in word:\n",
    "            node = node.next\n",
    "            continue\n",
    "\n",
    "        if pos2 == '数':\n",
    "            node = node.next\n",
    "            continue\n",
    "            \n",
    "        if (pos == '名詞' and pos2 != '数') or (pos == '形容詞') or (pos == '副詞'):\n",
    "            result.append(word)\n",
    "\n",
    "        node = node.next\n",
    "\n",
    "    return ' '.join(result)"
   ]
  },
  {
   "cell_type": "code",
   "execution_count": 24,
   "metadata": {},
   "outputs": [],
   "source": [
    "review_df['wakati_review'] = review_df['review'].apply(get_noun)"
   ]
  },
  {
   "cell_type": "code",
   "execution_count": 25,
   "metadata": {},
   "outputs": [],
   "source": [
    "review_df.to_csv('../csv/review_wakati.csv')"
   ]
  }
 ]
}