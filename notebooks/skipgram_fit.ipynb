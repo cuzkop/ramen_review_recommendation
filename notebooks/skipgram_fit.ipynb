{
 "nbformat": 4,
 "nbformat_minor": 2,
 "metadata": {
  "language_info": {
   "name": "python",
   "codemirror_mode": {
    "name": "ipython",
    "version": 3
   },
   "version": "3.7.4-final"
  },
  "orig_nbformat": 2,
  "file_extension": ".py",
  "mimetype": "text/x-python",
  "name": "python",
  "npconvert_exporter": "python",
  "pygments_lexer": "ipython3",
  "version": 3,
  "kernelspec": {
   "name": "python37464bitbd28dba388f24ab5b98956ad02abee7e",
   "display_name": "Python 3.7.4 64-bit"
  }
 },
 "cells": [
  {
   "cell_type": "code",
   "execution_count": 26,
   "metadata": {},
   "outputs": [],
   "source": [
    "import pandas as pd\n",
    "import numpy as np\n",
    "import MeCab\n",
    "from gensim.models import word2vec\n",
    "from scipy import spatial\n",
    "import pickle\n",
    "\n",
    "mecab = MeCab.Tagger ('-d /usr/local/lib/mecab/dic/mecab-ipadic-neologd')\n",
    "\n",
    "vector_size=250"
   ]
  },
  {
   "cell_type": "code",
   "execution_count": 27,
   "metadata": {},
   "outputs": [],
   "source": [
    "review_df = pd.read_csv('../csv/review_wakati.csv')"
   ]
  },
  {
   "cell_type": "code",
   "execution_count": 28,
   "metadata": {},
   "outputs": [],
   "source": [
    "sentences = [token.split() for token in review_df.wakati_review]"
   ]
  },
  {
   "cell_type": "code",
   "execution_count": 29,
   "metadata": {},
   "outputs": [],
   "source": [
    "skip_model = word2vec.Word2Vec(\n",
    "    sentences,\n",
    "    sg=1,\n",
    "    size=250,\n",
    "    min_count=10,\n",
    "    window=15,\n",
    "    seed=1234\n",
    ")"
   ]
  },
  {
   "cell_type": "code",
   "execution_count": 30,
   "metadata": {},
   "outputs": [],
   "source": [
    "skip_model.save('../models/skip_w2v.model')"
   ]
  },
  {
   "cell_type": "code",
   "execution_count": 31,
   "metadata": {},
   "outputs": [],
   "source": [
    "def avg_feature_vectors(words, model):\n",
    "    feature_vec = np.zeros(vector_size, dtype='float32')\n",
    "    for word in words:\n",
    "        try:\n",
    "            feature_vec = np.add(feature_vec, model[word])\n",
    "        except KeyError:\n",
    "            pass\n",
    "\n",
    "    return feature_vec"
   ]
  },
  {
   "cell_type": "code",
   "execution_count": 32,
   "metadata": {},
   "outputs": [
    {
     "name": "stderr",
     "output_type": "stream",
     "text": "/Users/kazuki_takahashi/Library/Python/3.7/lib/python/site-packages/ipykernel_launcher.py:5: DeprecationWarning: Call to deprecated `__getitem__` (Method will be removed in 4.0.0, use self.wv.__getitem__() instead).\n  \"\"\"\n"
    }
   ],
   "source": [
    "l = np.zeros([len(review_df), 250])\n",
    "for i, row in review_df.iterrows():\n",
    "    words = row.wakati_review.split(' ')\n",
    "    vectors = avg_feature_vectors(words,skip_model)\n",
    "    l[i] = vectors"
   ]
  },
  {
   "cell_type": "code",
   "execution_count": 35,
   "metadata": {},
   "outputs": [],
   "source": [
    "f = open('../pickle/skip_list.txt', 'wb')\n",
    "pickle.dump(l, f)\n",
    "f.close()"
   ]
  },
  {
   "cell_type": "code",
   "execution_count": null,
   "metadata": {},
   "outputs": [],
   "source": []
  }
 ]
}