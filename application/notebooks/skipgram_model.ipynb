{
 "nbformat": 4,
 "nbformat_minor": 2,
 "metadata": {
  "language_info": {
   "name": "python",
   "codemirror_mode": {
    "name": "ipython",
    "version": 3
   },
   "version": "3.7.4-final"
  },
  "orig_nbformat": 2,
  "file_extension": ".py",
  "mimetype": "text/x-python",
  "name": "python",
  "npconvert_exporter": "python",
  "pygments_lexer": "ipython3",
  "version": 3,
  "kernelspec": {
   "name": "python37464bitbd28dba388f24ab5b98956ad02abee7e",
   "display_name": "Python 3.7.4 64-bit"
  }
 },
 "cells": [
  {
   "cell_type": "code",
   "execution_count": 1,
   "metadata": {},
   "outputs": [],
   "source": [
    "import pandas as pd\n",
    "import numpy as np\n",
    "from scipy import spatial\n",
    "from gensim.models import word2vec\n",
    "import pickle\n",
    "\n",
    "vector_size = 250"
   ]
  },
  {
   "cell_type": "code",
   "execution_count": 2,
   "metadata": {},
   "outputs": [],
   "source": [
    "'''\n",
    "csv読み込み\n",
    "store_idをindexに変更\n",
    "'''\n",
    "\n",
    "df = pd.read_csv('../csv/review_wakati.csv')\n",
    "df = df.drop(['store_id'],axis=1)\n",
    "df = df.rename(columns={'Unnamed: 0':'store_id'}).set_index('store_id')"
   ]
  },
  {
   "cell_type": "code",
   "execution_count": 3,
   "metadata": {},
   "outputs": [],
   "source": [
    "'''\n",
    "pickleで学習済みreview達のvector読み出し\n",
    "'''\n",
    "\n",
    "f = open(\"../pickle/skip_list.txt\",\"rb\")\n",
    "skip_list = pickle.load(f)\n",
    "f.close()"
   ]
  },
  {
   "cell_type": "code",
   "execution_count": 4,
   "metadata": {},
   "outputs": [],
   "source": [
    "'''\n",
    "学習済みモデルの読み出し\n",
    "'''\n",
    "\n",
    "model = word2vec.Word2Vec.load('../models/skip_w2v.model')"
   ]
  },
  {
   "cell_type": "code",
   "execution_count": 5,
   "metadata": {},
   "outputs": [
    {
     "data": {
      "text/plain": "'\\nここまで準備\\n'"
     },
     "execution_count": 5,
     "metadata": {},
     "output_type": "execute_result"
    }
   ],
   "source": [
    "'''\n",
    "ここまで準備\n",
    "'''"
   ]
  },
  {
   "cell_type": "code",
   "execution_count": 6,
   "metadata": {},
   "outputs": [],
   "source": [
    "def sentence_similarity(vec1, vec2):\n",
    "    '''\n",
    "    二つの文章のコサイン類似度を返す\n",
    "    '''\n",
    "    return 1 - spatial.distance.cosine(vec1, vec2)"
   ]
  },
  {
   "cell_type": "code",
   "execution_count": 10,
   "metadata": {},
   "outputs": [],
   "source": [
    "def avg_feature_vectors(words, model):\n",
    "    feature_vec = np.zeros(vector_size, dtype='float32')\n",
    "    for word in words:\n",
    "        try:\n",
    "            feature_vec = np.add(feature_vec, model[word])\n",
    "        except KeyError:\n",
    "            pass\n",
    "\n",
    "    return feature_vec"
   ]
  },
  {
   "cell_type": "code",
   "execution_count": 23,
   "metadata": {},
   "outputs": [
    {
     "name": "stderr",
     "output_type": "stream",
     "text": "/Users/kazuki_takahashi/Library/Python/3.7/lib/python/site-packages/ipykernel_launcher.py:5: DeprecationWarning: Call to deprecated `__getitem__` (Method will be removed in 4.0.0, use self.wv.__getitem__() instead).\n  \"\"\"\n"
    }
   ],
   "source": [
    "'''\n",
    "store_idをkeyに指定文書と各行のreviewのコサイン類似度をスコアとして入れる\n",
    "'''\n",
    "\n",
    "result = {}\n",
    "keyword = avg_feature_vectors(['豚骨', '博多'], model)\n",
    "for i, row in df.iterrows():\n",
    "    score = sentence_similarity(keyword, skip_list[i])\n",
    "    result[i] = score * row.score\n"
   ]
  },
  {
   "cell_type": "code",
   "execution_count": 24,
   "metadata": {},
   "outputs": [],
   "source": [
    "'''\n",
    "scoreの高い順にsort\n",
    "'''\n",
    "\n",
    "score_sorted = sorted(result.items(), key=lambda x:x[1], reverse=True)"
   ]
  },
  {
   "cell_type": "code",
   "execution_count": 25,
   "metadata": {},
   "outputs": [
    {
     "name": "stdout",
     "output_type": "stream",
     "text": "店名:長浜屋台 やまちゃん 銀座店, 食べログスコア:3.6, 独自スコア:245.02, 最寄駅:東銀座\n店名:博多長浜ラーメン 呑龍, 食べログスコア:3.58, 独自スコア:243.47, 最寄駅:汐留\n店名:博多ラーメン ばりこて, 食べログスコア:3.73, 独自スコア:241.84, 最寄駅:東高円寺\n店名:博多長浜らーめん いっき, 食べログスコア:3.7, 独自スコア:234.34, 最寄駅:谷在家\n店名:田中商店 ダイバーシティ東京プラザ店, 食べログスコア:3.66, 独自スコア:232.85, 最寄駅:東京テレポート\n店名:博多一瑞亭 三田店, 食べログスコア:3.54, 独自スコア:232.71, 最寄駅:三田\n店名:長浜ナンバーワン  東京大岡山店, 食べログスコア:3.61, 独自スコア:230.37, 最寄駅:大岡山\n店名:博多らーめん 濱田屋 北千住店, 食べログスコア:3.52, 独自スコア:228.15, 最寄駅:北千住\n店名:博多食堂, 食べログスコア:3.51, 独自スコア:228.07, 最寄駅:神泉\n店名:博多豚骨ラーメン田原, 食べログスコア:3.53, 独自スコア:227.94, 最寄駅:堀切菖蒲園\n"
    }
   ],
   "source": [
    "'''\n",
    "score高い10件を書き出し\n",
    "'''\n",
    "\n",
    "for t in score_sorted[:10]:\n",
    "    row = df[df.index == t[0]]\n",
    "    name, score, station = row.store_name.values[0], row.score.values[0], row.station.values[0]\n",
    "    print('店名:{}, 食べログスコア:{}, 独自スコア:{:.2f}, 最寄駅:{}'.format(name,score,t[1]*100,station))\n",
    "    "
   ]
  },
  {
   "cell_type": "code",
   "execution_count": null,
   "metadata": {},
   "outputs": [],
   "source": []
  }
 ]
}