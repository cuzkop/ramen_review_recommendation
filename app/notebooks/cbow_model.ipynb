{
 "nbformat": 4,
 "nbformat_minor": 2,
 "metadata": {
  "language_info": {
   "name": "python",
   "codemirror_mode": {
    "name": "ipython",
    "version": 3
   },
   "version": "3.7.4-final"
  },
  "orig_nbformat": 2,
  "file_extension": ".py",
  "mimetype": "text/x-python",
  "name": "python",
  "npconvert_exporter": "python",
  "pygments_lexer": "ipython3",
  "version": 3,
  "kernelspec": {
   "name": "python37464bitbd28dba388f24ab5b98956ad02abee7e",
   "display_name": "Python 3.7.4 64-bit"
  }
 },
 "cells": [
  {
   "cell_type": "code",
   "execution_count": 62,
   "metadata": {},
   "outputs": [],
   "source": [
    "import pandas as pd\n",
    "import numpy as np\n",
    "from scipy import spatial\n",
    "from gensim.models import word2vec\n",
    "import pickle\n",
    "\n",
    "vector_size = 250"
   ]
  },
  {
   "cell_type": "code",
   "execution_count": 63,
   "metadata": {},
   "outputs": [],
   "source": [
    "'''\n",
    "csv読み込み\n",
    "store_idをindexに変更\n",
    "'''\n",
    "\n",
    "df = pd.read_csv('../csv/review_wakati.csv')\n",
    "df = df.drop(['store_id'],axis=1)\n",
    "df = df.rename(columns={'Unnamed: 0':'store_id'}).set_index('store_id')"
   ]
  },
  {
   "cell_type": "code",
   "execution_count": 64,
   "metadata": {},
   "outputs": [],
   "source": [
    "'''\n",
    "pickleで学習済みreview達のvector読み出し\n",
    "'''\n",
    "\n",
    "f = open(\"../pickle/cbow_list.txt\",\"rb\")\n",
    "cbow_list = pickle.load(f)\n",
    "f.close()"
   ]
  },
  {
   "cell_type": "code",
   "execution_count": 65,
   "metadata": {},
   "outputs": [],
   "source": [
    "'''\n",
    "学習済みモデルの読み出し\n",
    "'''\n",
    "\n",
    "model = word2vec.Word2Vec.load('../models/cbow_w2v.model')"
   ]
  },
  {
   "cell_type": "code",
   "execution_count": 66,
   "metadata": {},
   "outputs": [
    {
     "data": {
      "text/plain": "'\\nここまで準備\\n'"
     },
     "execution_count": 66,
     "metadata": {},
     "output_type": "execute_result"
    }
   ],
   "source": [
    "'''\n",
    "ここまで準備\n",
    "'''"
   ]
  },
  {
   "cell_type": "code",
   "execution_count": 67,
   "metadata": {},
   "outputs": [],
   "source": [
    "def sentence_similarity(vec1, vec2):\n",
    "    '''\n",
    "    二つの文章のコサイン類似度を返す\n",
    "    '''\n",
    "    return 1 - spatial.distance.cosine(vec1, vec2)"
   ]
  },
  {
   "cell_type": "code",
   "execution_count": null,
   "metadata": {},
   "outputs": [],
   "source": []
  },
  {
   "cell_type": "code",
   "execution_count": 68,
   "metadata": {},
   "outputs": [
    {
     "name": "stderr",
     "output_type": "stream",
     "text": "/Users/kazuki_takahashi/Library/Python/3.7/lib/python/site-packages/ipykernel_launcher.py:5: DeprecationWarning: Call to deprecated `__getitem__` (Method will be removed in 4.0.0, use self.wv.__getitem__() instead).\n  \"\"\"\n"
    }
   ],
   "source": [
    "'''\n",
    "store_idをkeyに指定文書と各行のreviewのコサイン類似度をスコアとして入れる\n",
    "'''\n",
    "\n",
    "result = {}\n",
    "keyword = avg_feature_vectors(['行列', '醬油', 'ラーメン'], model)\n",
    "for i, row in df.iterrows():\n",
    "    score = sentence_similarity(keyword, cbow_list[i])\n",
    "    result[i] = score * row.score\n"
   ]
  },
  {
   "cell_type": "code",
   "execution_count": 69,
   "metadata": {},
   "outputs": [],
   "source": [
    "'''\n",
    "scoreの高い順にsort\n",
    "'''\n",
    "\n",
    "score_sorted = sorted(result.items(), key=lambda x:x[1], reverse=True)"
   ]
  },
  {
   "cell_type": "code",
   "execution_count": 70,
   "metadata": {},
   "outputs": [
    {
     "name": "stdout",
     "output_type": "stream",
     "text": "店名:SOBA HOUSE 金色不如帰, 食べログスコア:3.89, 独自スコア:193.04, 最寄駅:新宿御苑前\n店名:珍々軒, 食べログスコア:3.58, 独自スコア:163.83, 最寄駅:京成上野\n店名:田中そば店 本店, 食べログスコア:3.72, 独自スコア:153.72, 最寄駅:六町\n店名:ラーメン二郎 神田神保町店, 食べログスコア:3.72, 独自スコア:153.61, 最寄駅:神保町\n店名:はいむる珈琲店, 食べログスコア:3.52, 独自スコア:151.87, 最寄駅:武蔵小山\n店名:ラーメン 龍の家 新宿小滝橋通り店, 食べログスコア:3.53, 独自スコア:151.17, 最寄駅:西武新宿\n店名:麺屋武蔵 新宿本店, 食べログスコア:3.55, 独自スコア:148.76, 最寄駅:西武新宿\n店名:三吉, 食べログスコア:3.53, 独自スコア:147.77, 最寄駅:新橋\n店名:自家製中華そば としおか, 食べログスコア:3.87, 独自スコア:145.06, 最寄駅:早稲田駅（メトロ）\n店名:タロー軒, 食べログスコア:3.62, 独自スコア:142.76, 最寄駅:新高円寺\n"
    }
   ],
   "source": [
    "'''\n",
    "score高い10件を書き出し\n",
    "'''\n",
    "\n",
    "for t in score_sorted[:10]:\n",
    "    row = df[df.index == t[0]]\n",
    "    name, score, station = row.store_name.values[0], row.score.values[0], row.station.values[0]\n",
    "    print('店名:{}, 食べログスコア:{}, 独自スコア:{:.2f}, 最寄駅:{}'.format(name,score,t[1]*100,station))\n",
    "    "
   ]
  },
  {
   "cell_type": "code",
   "execution_count": null,
   "metadata": {},
   "outputs": [],
   "source": []
  }
 ]
}