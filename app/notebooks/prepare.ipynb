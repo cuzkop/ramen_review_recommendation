{
 "nbformat": 4,
 "nbformat_minor": 2,
 "metadata": {
  "language_info": {
   "name": "python",
   "codemirror_mode": {
    "name": "ipython",
    "version": 3
   },
   "version": "3.7.4-final"
  },
  "orig_nbformat": 2,
  "file_extension": ".py",
  "mimetype": "text/x-python",
  "name": "python",
  "npconvert_exporter": "python",
  "pygments_lexer": "ipython3",
  "version": 3,
  "kernelspec": {
   "name": "python37464bitbd28dba388f24ab5b98956ad02abee7e",
   "display_name": "Python 3.7.4 64-bit"
  }
 },
 "cells": [
  {
   "cell_type": "code",
   "execution_count": 10,
   "metadata": {},
   "outputs": [],
   "source": [
    "import pandas as pd\n",
    "import MeCab\n",
    "import sys\n",
    "\n",
    "mecab = MeCab.Tagger ('-d /usr/local/lib/mecab/dic/mecab-ipadic-neologd')"
   ]
  },
  {
   "cell_type": "code",
   "execution_count": 3,
   "metadata": {},
   "outputs": [],
   "source": [
    "stop_words = ['円','点','時','分','!','・',';','?','年','月','日','゚ Д ゚','ウマー']"
   ]
  },
  {
   "cell_type": "code",
   "execution_count": 4,
   "metadata": {},
   "outputs": [],
   "source": [
    "review_df = pd.read_csv('../csv/review.csv')"
   ]
  },
  {
   "cell_type": "code",
   "execution_count": 5,
   "metadata": {},
   "outputs": [
    {
     "data": {
      "text/html": "<div>\n<style scoped>\n    .dataframe tbody tr th:only-of-type {\n        vertical-align: middle;\n    }\n\n    .dataframe tbody tr th {\n        vertical-align: top;\n    }\n\n    .dataframe thead th {\n        text-align: right;\n    }\n</style>\n<table border=\"1\" class=\"dataframe\">\n  <thead>\n    <tr style=\"text-align: right;\">\n      <th></th>\n      <th>store_id</th>\n      <th>store_name</th>\n      <th>score</th>\n      <th>station</th>\n      <th>review</th>\n    </tr>\n  </thead>\n  <tbody>\n    <tr>\n      <th>0</th>\n      <td>1</td>\n      <td>中華そば しば田</td>\n      <td>4.06</td>\n      <td>仙川駅</td>\n      <td>開店前から長蛇の列!!( ; ﾛ)ﾟ ﾟ開店前10分前に到着しましたが、ありつけるまで、1時...</td>\n    </tr>\n    <tr>\n      <th>1</th>\n      <td>2</td>\n      <td>Homemade Ramen 麦苗</td>\n      <td>4.02</td>\n      <td>大森海岸駅</td>\n      <td>わがままボディーの後輩との東京遠征2日目の昼。実に4年ぶりとなるこちらへ。当時から行列のでき...</td>\n    </tr>\n    <tr>\n      <th>2</th>\n      <td>3</td>\n      <td>手打式超多加水麺 ののくら</td>\n      <td>3.98</td>\n      <td>亀有駅</td>\n      <td>2020・1・28　初訪TRY本で新人賞を獲った頃から行きたかった「ののくら」。今日の午前中...</td>\n    </tr>\n    <tr>\n      <th>3</th>\n      <td>4</td>\n      <td>中華そば 多賀野</td>\n      <td>3.97</td>\n      <td>荏原中延駅</td>\n      <td>中華そば750、大盛120動物系乾物系背脂醤油スープ中細ストレート麺ちょいカタメ豚バラチャー...</td>\n    </tr>\n    <tr>\n      <th>4</th>\n      <td>5</td>\n      <td>麺庵ちとせ</td>\n      <td>3.97</td>\n      <td>若松河田駅</td>\n      <td>百名店ラーメンTOKYO2019の51店目は曙橋の『麺庵ちとせ』さんへ！地下鉄の駅からお店へ...</td>\n    </tr>\n  </tbody>\n</table>\n</div>",
      "text/plain": "   store_id         store_name  score station  \\\n0         1           中華そば しば田   4.06     仙川駅   \n1         2  Homemade Ramen 麦苗   4.02   大森海岸駅   \n2         3      手打式超多加水麺 ののくら   3.98     亀有駅   \n3         4           中華そば 多賀野   3.97   荏原中延駅   \n4         5              麺庵ちとせ   3.97   若松河田駅   \n\n                                              review  \n0  開店前から長蛇の列!!( ; ﾛ)ﾟ ﾟ開店前10分前に到着しましたが、ありつけるまで、1時...  \n1  わがままボディーの後輩との東京遠征2日目の昼。実に4年ぶりとなるこちらへ。当時から行列のでき...  \n2  2020・1・28　初訪TRY本で新人賞を獲った頃から行きたかった「ののくら」。今日の午前中...  \n3  中華そば750、大盛120動物系乾物系背脂醤油スープ中細ストレート麺ちょいカタメ豚バラチャー...  \n4  百名店ラーメンTOKYO2019の51店目は曙橋の『麺庵ちとせ』さんへ！地下鉄の駅からお店へ...  "
     },
     "execution_count": 5,
     "metadata": {},
     "output_type": "execute_result"
    }
   ],
   "source": [
    "review_df.head()"
   ]
  },
  {
   "cell_type": "code",
   "execution_count": 6,
   "metadata": {},
   "outputs": [],
   "source": [
    "review_df['station'] = review_df['station'].str.rstrip('駅')"
   ]
  },
  {
   "cell_type": "code",
   "execution_count": 7,
   "metadata": {},
   "outputs": [],
   "source": [
    "def remove_stop_words(x):\n",
    "    for s in stop_words:\n",
    "        x = x.replace(s, '')\n",
    "    return x"
   ]
  },
  {
   "cell_type": "code",
   "execution_count": 8,
   "metadata": {},
   "outputs": [],
   "source": [
    "review_df[\"review\"] = review_df[\"review\"].apply(remove_stop_words)"
   ]
  },
  {
   "cell_type": "code",
   "execution_count": 9,
   "metadata": {},
   "outputs": [],
   "source": [
    "review_df['review'] = review_df['review'].str.normalize('NFKC')"
   ]
  },
  {
   "cell_type": "code",
   "execution_count": 23,
   "metadata": {},
   "outputs": [],
   "source": [
    "def get_noun(text):\n",
    "    mecab.parse('')\n",
    "    node = mecab.parseToNode(text)\n",
    "    result = []\n",
    "\n",
    "    while node:\n",
    "        word = node.surface\n",
    "        pos,pos2 = node.feature.split(\",\")[0],node.feature.split(\",\")[1]\n",
    "        if '0' in word or '1' in word or '2' in word or '3' in word or '4' in word or '5' in word or '6' in word or '7' in word or '8' in word or '9' in word:\n",
    "            node = node.next\n",
    "            continue\n",
    "\n",
    "        if pos2 == '数':\n",
    "            node = node.next\n",
    "            continue\n",
    "            \n",
    "        if (pos == '名詞' and pos2 != '数') or (pos == '形容詞') or (pos == '副詞'):\n",
    "            result.append(word)\n",
    "        node = node.next\n",
    "\n",
    "    return ' '.join(result)"
   ]
  },
  {
   "cell_type": "code",
   "execution_count": 24,
   "metadata": {},
   "outputs": [],
   "source": [
    "review_df['wakati_review'] = review_df['review'].apply(get_noun)"
   ]
  },
  {
   "cell_type": "code",
   "execution_count": 25,
   "metadata": {},
   "outputs": [],
   "source": [
    "review_df.to_csv('../csv/review_wakati.csv')"
   ]
  }
 ]
}