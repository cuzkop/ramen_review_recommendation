{
 "nbformat": 4,
 "nbformat_minor": 2,
 "metadata": {
  "language_info": {
   "name": "python",
   "codemirror_mode": {
    "name": "ipython",
    "version": 3
   },
   "version": "3.7.4-final"
  },
  "orig_nbformat": 2,
  "file_extension": ".py",
  "mimetype": "text/x-python",
  "name": "python",
  "npconvert_exporter": "python",
  "pygments_lexer": "ipython3",
  "version": 3,
  "kernelspec": {
   "name": "python37464bitbd28dba388f24ab5b98956ad02abee7e",
   "display_name": "Python 3.7.4 64-bit"
  }
 },
 "cells": [
  {
   "cell_type": "code",
   "execution_count": 15,
   "metadata": {},
   "outputs": [],
   "source": [
    "import pandas as pd\n",
    "import numpy as np\n",
    "from scipy import spatial\n",
    "from gensim.models import word2vec\n",
    "import pickle\n",
    "\n",
    "vector_size = 250"
   ]
  },
  {
   "cell_type": "code",
   "execution_count": 16,
   "metadata": {},
   "outputs": [],
   "source": [
    "'''\n",
    "csv読み込み\n",
    "store_idをindexに変更\n",
    "'''\n",
    "\n",
    "df = pd.read_csv('../csv/review_wakati.csv')\n",
    "df = df.drop(['store_id'],axis=1)\n",
    "df = df.rename(columns={'Unnamed: 0':'store_id'}).set_index('store_id')"
   ]
  },
  {
   "cell_type": "code",
   "execution_count": 17,
   "metadata": {},
   "outputs": [],
   "source": [
    "'''\n",
    "pickleで学習済みreview達のvector読み出し\n",
    "'''\n",
    "\n",
    "f = open(\"../pickle/skip_list.txt\",\"rb\")\n",
    "skip_list = pickle.load(f)\n",
    "f.close()"
   ]
  },
  {
   "cell_type": "code",
   "execution_count": 18,
   "metadata": {},
   "outputs": [],
   "source": [
    "'''\n",
    "学習済みモデルの読み出し\n",
    "'''\n",
    "\n",
    "model = word2vec.Word2Vec.load('../models/skip_w2v.model')"
   ]
  },
  {
   "cell_type": "code",
   "execution_count": 19,
   "metadata": {},
   "outputs": [
    {
     "data": {
      "text/plain": "'\\nここまで準備\\n'"
     },
     "execution_count": 19,
     "metadata": {},
     "output_type": "execute_result"
    }
   ],
   "source": [
    "'''\n",
    "ここまで準備\n",
    "'''"
   ]
  },
  {
   "cell_type": "code",
   "execution_count": 20,
   "metadata": {},
   "outputs": [],
   "source": [
    "def sentence_similarity(vec1, vec2):\n",
    "    '''\n",
    "    二つの文章のコサイン類似度を返す\n",
    "    '''\n",
    "    return 1 - spatial.distance.cosine(vec1, vec2)"
   ]
  },
  {
   "cell_type": "code",
   "execution_count": 8,
   "metadata": {},
   "outputs": [],
   "source": [
    "def avg_feature_vectors(words, model):\n",
    "    feature_vec = np.zeros(vector_size, dtype='float32')\n",
    "    for word in words:\n",
    "        try:\n",
    "            feature_vec = np.add(feature_vec, model[word])\n",
    "        except KeyError:\n",
    "            pass\n",
    "\n",
    "    return feature_vec"
   ]
  },
  {
   "cell_type": "code",
   "execution_count": 24,
   "metadata": {},
   "outputs": [
    {
     "name": "stdout",
     "output_type": "stream",
     "text": "7.734234097821377 3.84\n7.68510484794386 3.76\n7.729056967152828 3.7\n8.014446983882227 3.7\n7.816509343465975 3.69\n8.034184900172395 3.67\n8.515252203296233 3.63\n7.309879055497888 3.58\n7.839624169916551 3.56\n7.202644243942077 3.54\n7.437389930795904 3.53\n7.8291330732454245 3.53\n/Users/kazuki_takahashi/Library/Python/3.7/lib/python/site-packages/ipykernel_launcher.py:5: DeprecationWarning: Call to deprecated `__getitem__` (Method will be removed in 4.0.0, use self.wv.__getitem__() instead).\n  \"\"\"\n"
    }
   ],
   "source": [
    "'''\n",
    "store_idをkeyに指定文書と各行のreviewのコサイン類似度をスコアとして入れる\n",
    "'''\n",
    "\n",
    "result = {}\n",
    "keyword = avg_feature_vectors(['濃厚','太麺','つけ麺'], model)\n",
    "for i, row in df.iterrows():\n",
    "    if row.station not in ['新宿', '西新宿','新宿三丁目']:\n",
    "        continue\n",
    "    score = sentence_similarity(keyword, skip_list[i])\n",
    "    print(score*10*1.2, row.score)\n",
    "    result[i] = score*10*1.2 + row.score\n"
   ]
  },
  {
   "cell_type": "code",
   "execution_count": 25,
   "metadata": {},
   "outputs": [],
   "source": [
    "'''\n",
    "scoreの高い順にsort\n",
    "'''\n",
    "\n",
    "score_sorted = sorted(result.items(), key=lambda x:x[1], reverse=True)"
   ]
  },
  {
   "cell_type": "code",
   "execution_count": 27,
   "metadata": {},
   "outputs": [
    {
     "name": "stdout",
     "output_type": "stream",
     "text": "店名:百日紅, 食べログスコア:3.63, 独自スコア:12.15, 最寄駅:新宿三丁目\n店名:煮干中華そば鈴蘭, 食べログスコア:3.7, 独自スコア:11.71, 最寄駅:新宿三丁目\n店名:麺屋 翔 みなと, 食べログスコア:3.67, 独自スコア:11.70, 最寄駅:西新宿\n店名:らぁ麺 はやし田 新宿本店, 食べログスコア:3.84, 独自スコア:11.57, 最寄駅:新宿三丁目\n店名:メンショー サン フランシスコ, 食べログスコア:3.69, 独自スコア:11.51, 最寄駅:新宿\n店名:麺屋海神, 食べログスコア:3.76, 独自スコア:11.45, 最寄駅:新宿\n店名:すごい煮干ラーメン凪 新宿ゴールデン街店本館, 食べログスコア:3.7, 独自スコア:11.43, 最寄駅:新宿三丁目\n店名:らーめん 北の大地, 食べログスコア:3.56, 独自スコア:11.40, 最寄駅:新宿三丁目\n店名:らぁ麺 くろ渦, 食べログスコア:3.53, 独自スコア:11.36, 最寄駅:新宿三丁目\n店名:町田家 新宿南口店, 食べログスコア:3.53, 独自スコア:10.97, 最寄駅:新宿\n"
    }
   ],
   "source": [
    "'''\n",
    "score高い10件を書き出し\n",
    "'''\n",
    "\n",
    "for t in score_sorted[:10]:\n",
    "    row = df[df.index == t[0]]\n",
    "    name, score, station = row.store_name.values[0], row.score.values[0], row.station.values[0]\n",
    "    print('店名:{}, 食べログスコア:{}, 独自スコア:{:.2f}, 最寄駅:{}'.format(name,score,t[1],station))\n",
    "    "
   ]
  },
  {
   "cell_type": "code",
   "execution_count": null,
   "metadata": {},
   "outputs": [],
   "source": []
  }
 ]
}